{
  "nbformat": 4,
  "nbformat_minor": 0,
  "metadata": {
    "colab": {
      "name": "Notebook2_Naive_Bayes_Classifier.ipynb",
      "provenance": [],
      "toc_visible": true
    },
    "kernelspec": {
      "name": "python3",
      "display_name": "Python 3"
    }
  },
  "cells": [
    {
      "cell_type": "markdown",
      "metadata": {
        "id": "DSosXj75MDey",
        "colab_type": "text"
      },
      "source": [
        "# A Notebook to Use Naïve Bayes Classifiers"
      ]
    },
    {
      "cell_type": "markdown",
      "metadata": {
        "id": "S5xbMR4pMJe5",
        "colab_type": "text"
      },
      "source": [
        "This notebook shows how to train a Naïve Bayes classifier to classify unseen instances.\n",
        "\n",
        "For those of you interested in understanding the code, it uses predefined functions from the [sklearn](http://scikit-learn.org) library of machine learning primitives. A few more details about the code:  \n",
        "* The variable \"dataset\" stores the name of text file that you input and is passed as an argument of the function \"loadDataSet()\".  \n",
        "* After processing, the loadDataSet function will output, or in other words, return two variables, \"instances\", and \"labels\".  \n",
        "* \"attributes\" stores the names of all features. \"instances\" stores the feature vector of each instance. \"labels\" stores the labels of all instances.   \n",
        "* The variable \"n_foldCV\" stores the number of times of n-fold cross validation that you input.\n",
        "* The variable \"clf\" stores up to three Naive Bayes models, and it can be fitted with \"instances\" and \"labels\". Once the model are trained, they can be used to predict unseen instances. "
      ]
    },
    {
      "cell_type": "markdown",
      "metadata": {
        "id": "Tt2a5F56MORA",
        "colab_type": "text"
      },
      "source": [
        "Naive Bayes Classifer is a probabilistic classifier which is based on Bayes Theorem. It can be used to find the probability of Hypothesis (H) being True given an event (E) has occurred. \n",
        "\n",
        "![alt text](https://drive.google.com/uc?id=1Hdtn7HztaQC8R5U3wQEgMVvC4dTvvNLg)\n"
      ]
    },
    {
      "cell_type": "code",
      "metadata": {
        "id": "K8YfJdLAMQUY",
        "colab_type": "code",
        "colab": {}
      },
      "source": [
        "import numpy as np\n",
        "from sklearn.naive_bayes import BernoulliNB,GaussianNB,MultinomialNB\n",
        "from sklearn.model_selection import cross_val_score\n",
        "\n",
        "def loadDataSet(dataset): \n",
        "    with open(dataset) as f:\n",
        "        data=f.readlines()\n",
        "        attributes=data[0].rstrip().split(',')[:-1]\n",
        "        instances=[entry.rstrip().split(',')[:-1] for entry in data[1:]]\n",
        "        dataArray=[]\n",
        "        for i in range(len(instances[0])):\n",
        "            dataArray.append([float(instance[i]) for instance in instances])\n",
        "        instances=np.array(dataArray).T\n",
        "        labels=[entry.rstrip().split(',')[-1] for entry in data[1:]]\n",
        "        return attributes,instances,labels\n",
        "\n",
        "\n",
        "\n",
        "def predict(testset):\n",
        "    if \"clf_G\" in globals():\n",
        "        prediction=clf_G.predict(testset)\n",
        "        print(\"GaussianNB: \",prediction)\n",
        "    if \"clf_M\" in globals():\n",
        "        prediction=clf_M.predict(testset)\n",
        "        print(\"MultinomialNB: \",prediction)"
      ],
      "execution_count": null,
      "outputs": []
    },
    {
      "cell_type": "markdown",
      "metadata": {
        "id": "sxuR53uWMeC4",
        "colab_type": "text"
      },
      "source": [
        "## Training: Build a Naïve Bayes Classifier##\n",
        "The cell below asks for a dataset. It trains a Naïve Bayes classifier. There are three Naive Bayes classifiers provided. They are based on different math fundations and might have different performance over different datasets.   \n",
        "\n",
        "We provide two the lenses dataset that can be applied to the Naïve Bayes algorithms. \n",
        "* \"lenses.csv\" contains four attributes with discrete values and three classes."
      ]
    },
    {
      "cell_type": "markdown",
      "metadata": {
        "id": "E_f2mPUWMg8w",
        "colab_type": "text"
      },
      "source": [
        "### Gaussian Naïve Bayes Classifier"
      ]
    },
    {
      "cell_type": "code",
      "metadata": {
        "id": "PZIYt4ogMehM",
        "colab_type": "code",
        "colab": {}
      },
      "source": [
        "dataset=\"lenses.csv\"\n",
        "attributes,instances,labels=loadDataSet(dataset)\n",
        "clf_G = GaussianNB()\n",
        "clf_G.fit(instances, labels)\n",
        "print(\"Gaussian Naive Bayes is used.\")\n"
      ],
      "execution_count": null,
      "outputs": []
    },
    {
      "cell_type": "markdown",
      "metadata": {
        "id": "Q3jMYqa0Mp1s",
        "colab_type": "text"
      },
      "source": [
        "### Multinomial Naive Bayes Classifier\n",
        "\n",
        "\n",
        "\n"
      ]
    },
    {
      "cell_type": "code",
      "metadata": {
        "id": "aGuMAg3OMlkQ",
        "colab_type": "code",
        "colab": {}
      },
      "source": [
        "attributes,instances,labels=loadDataSet(dataset)\n",
        "clf_M = MultinomialNB()\n",
        "clf_M.fit(instances, labels)\n",
        "print(\"Multinomial Naive Bayes is used.\")"
      ],
      "execution_count": null,
      "outputs": []
    },
    {
      "cell_type": "markdown",
      "metadata": {
        "id": "2NUJO6ZQNCAX",
        "colab_type": "text"
      },
      "source": [
        "## Predict unseen instances##\n",
        "When you are prompted to input a prediction set, please create an example of an instance that looks like the instances in the lenses.csv file. For example:\n",
        "\n",
        "\"young,myope,yes,normal\"\n",
        "\n",
        "\n",
        "Each feature value is separated with a comma, and should have the same length as the instances in the original dataset. "
      ]
    },
    {
      "cell_type": "code",
      "metadata": {
        "id": "PoutMsq3NCYX",
        "colab_type": "code",
        "colab": {}
      },
      "source": [
        "testset=input('Please Enter Your Prediction Set:')\n",
        "testset=testset.split(\",\")\n",
        "temp=[]\n",
        "for i in range(len(testset)):\n",
        "        temp.append(float(testset[i]))\n",
        "testset=np.array(temp).reshape((1,len(temp)))"
      ],
      "execution_count": null,
      "outputs": []
    },
    {
      "cell_type": "code",
      "metadata": {
        "id": "4bHLLI7TNFAF",
        "colab_type": "code",
        "colab": {}
      },
      "source": [
        "predict(testset)"
      ],
      "execution_count": null,
      "outputs": []
    },
    {
      "cell_type": "markdown",
      "metadata": {
        "id": "NutVdE2XNI9t",
        "colab_type": "text"
      },
      "source": [
        "## Evaluate a classifier##\n",
        "The following cell will output the accuracy score in each run and the accuracy estimate of the model under 95% confidence interval.  "
      ]
    },
    {
      "cell_type": "markdown",
      "metadata": {
        "id": "U7J2gLe6NNvM",
        "colab_type": "text"
      },
      "source": [
        "### Gaussian Naïve Bayes Classifier\n",
        "\n"
      ]
    },
    {
      "cell_type": "code",
      "metadata": {
        "id": "X3XGVx_VNJT2",
        "colab_type": "code",
        "colab": {}
      },
      "source": [
        "%%time\n",
        "# dataset=input('Please Enter Your Test Data:')\n",
        "n_foldCV=int(input(\"Please Enter the Number of Folds:\"))\n",
        "attributes,instances,labels=loadDataSet(dataset)\n",
        "clf_G = GaussianNB()\n",
        "scores = cross_val_score(clf_G, instances, labels, cv=n_foldCV)\n",
        "print(\"======GaussianNB======\")\n",
        "print(np.array2string(scores,separator=\",\"))\n",
        "print(\"Accuracy: %0.2f (+/- %0.2f)\" % (scores.mean(), scores.std() * 2))"
      ],
      "execution_count": null,
      "outputs": []
    },
    {
      "cell_type": "markdown",
      "metadata": {
        "id": "3-_gpuoGNSE-",
        "colab_type": "text"
      },
      "source": [
        "### Multinomial Naive Bayes"
      ]
    },
    {
      "cell_type": "code",
      "metadata": {
        "id": "q9X4oknXNSgU",
        "colab_type": "code",
        "colab": {}
      },
      "source": [
        "%%time\n",
        "# dataset=input('Please Enter Your Test Data:')\n",
        "n_foldCV=int(input(\"Please Enter the Number of Folds:\"))\n",
        "attributes,instances,labels=loadDataSet(dataset)\n",
        "clf_M = MultinomialNB()\n",
        "scores = cross_val_score(clf_M, instances, labels, cv=n_foldCV)\n",
        "print(\"======MultinomialNB======\")\n",
        "print(np.array2string(scores,separator=\",\"))\n",
        "print(\"Accuracy: %0.2f (+/- %0.2f)\" % (scores.mean(), scores.std() * 2))"
      ],
      "execution_count": null,
      "outputs": []
    }
  ]
}
