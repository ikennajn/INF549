{
 "cells": [
  {
   "cell_type": "markdown",
   "metadata": {
    "colab_type": "text",
    "id": "DSosXj75MDey"
   },
   "source": [
    "# A Notebook to Use Naïve Bayes Classifiers"
   ]
  },
  {
   "cell_type": "markdown",
   "metadata": {
    "colab_type": "text",
    "id": "S5xbMR4pMJe5"
   },
   "source": [
    "This notebook shows how to train Naïve Bayes classifiers to classify unseen instances.\n",
    "\n",
    "For those of you interested in understanding the code, it uses predefined functions from the [sklearn](http://scikit-learn.org) library of machine learning primitives. "
   ]
  },
  {
   "cell_type": "markdown",
   "metadata": {
    "colab_type": "text",
    "id": "Tt2a5F56MORA"
   },
   "source": [
    "Naive Bayes Classifer is a probabilistic classifier which is based on Bayes Theorem. It can be used to find the probability of Hypothesis (H) being True given an event (E) has occurred. \n",
    "\n",
    "![alt text](https://drive.google.com/uc?id=1Hdtn7HztaQC8R5U3wQEgMVvC4dTvvNLg)\n",
    "\n",
    "First import the data and load custom functions"
   ]
  },
  {
   "cell_type": "code",
   "execution_count": null,
   "metadata": {
    "colab": {},
    "colab_type": "code",
    "id": "FejnTcFRK7-M"
   },
   "outputs": [],
   "source": [
    "import wget\n",
    "wget.download('https://raw.githubusercontent.com/khider/INF549/master/Assignment3_MachineLearning/Dataset/iris.csv')\n",
    "wget.download('https://raw.githubusercontent.com/khider/INF549/master/Assignment3_MachineLearning/Dataset/lenses.csv')"
   ]
  },
  {
   "cell_type": "code",
   "execution_count": null,
   "metadata": {
    "colab": {},
    "colab_type": "code",
    "id": "K8YfJdLAMQUY"
   },
   "outputs": [],
   "source": [
    "import numpy as np\n",
    "from sklearn.naive_bayes import BernoulliNB,GaussianNB,MultinomialNB\n",
    "from sklearn.model_selection import cross_val_score\n",
    "\n",
    "def loadDataSet(dataset): \n",
    "    with open(dataset) as f:\n",
    "        data=f.readlines()\n",
    "        attributes=data[0].rstrip().split(',')[:-1]\n",
    "        instances=[entry.rstrip().split(',')[:-1] for entry in data[1:]]\n",
    "        dataArray=[]\n",
    "        for i in range(len(instances[0])):\n",
    "            dataArray.append([float(instance[i]) for instance in instances])\n",
    "        instances=np.array(dataArray).T\n",
    "        labels=[entry.rstrip().split(',')[-1] for entry in data[1:]]\n",
    "        return attributes,instances,labels\n",
    "\n",
    "\n",
    "\n",
    "def predict(testset):\n",
    "    if \"clf_G\" in globals():\n",
    "        prediction=clf_G.predict(testset)\n",
    "        print(\"GaussianNB: \",prediction)\n",
    "    if \"clf_M\" in globals():\n",
    "        prediction=clf_M.predict(testset)\n",
    "        print(\"MultinomialNB: \",prediction)"
   ]
  },
  {
   "cell_type": "markdown",
   "metadata": {
    "colab_type": "text",
    "id": "sxuR53uWMeC4"
   },
   "source": [
    "## Building and Evaluating Naïve Bayes Classifiers##\n",
    "\n",
    "We will be looking at the performance of two different Naïve Bayes Classifier. \n",
    "\n",
    "* Multinomial Naive Bayes: suitable for classification with discrete features.\n",
    "* Gaussian Naive Bayes: suitable for classification with continuous features."
   ]
  },
  {
   "cell_type": "markdown",
   "metadata": {
    "colab_type": "text",
    "id": "E_f2mPUWMg8w"
   },
   "source": [
    "### Gaussian Naïve Bayes Classifier"
   ]
  },
  {
   "cell_type": "code",
   "execution_count": null,
   "metadata": {
    "colab": {},
    "colab_type": "code",
    "id": "PZIYt4ogMehM"
   },
   "outputs": [],
   "source": [
    "dataset=input('Please Enter Your Dataset:')\n",
    "attributes,instances,labels=loadDataSet(dataset)\n",
    "clf_G = GaussianNB()\n",
    "clf_G.fit(instances, labels)\n",
    "print(\"Gaussian Naive Bayes is used.\")"
   ]
  },
  {
   "cell_type": "code",
   "execution_count": null,
   "metadata": {
    "colab": {},
    "colab_type": "code",
    "id": "X3XGVx_VNJT2"
   },
   "outputs": [],
   "source": [
    "n_foldCV=int(input(\"Please Enter the Number of Folds:\"))\n",
    "attributes,instances,labels=loadDataSet(dataset)\n",
    "clf_G = GaussianNB()\n",
    "scores = cross_val_score(clf_G, instances, labels, cv=n_foldCV)\n",
    "print(\"======GaussianNB======\")\n",
    "print(np.array2string(scores,separator=\",\"))\n",
    "print(\"Accuracy: %0.2f (+/- %0.2f)\" % (scores.mean(), scores.std() * 2))"
   ]
  },
  {
   "cell_type": "markdown",
   "metadata": {
    "colab_type": "text",
    "id": "Q3jMYqa0Mp1s"
   },
   "source": [
    "### Multinomial Naive Bayes Classifier\n",
    "\n",
    "\n",
    "\n"
   ]
  },
  {
   "cell_type": "code",
   "execution_count": null,
   "metadata": {
    "colab": {},
    "colab_type": "code",
    "id": "aGuMAg3OMlkQ"
   },
   "outputs": [],
   "source": [
    "dataset=input('Please Enter Your Dataset:')\n",
    "attributes,instances,labels=loadDataSet(dataset)\n",
    "clf_M = MultinomialNB()\n",
    "clf_M.fit(instances, labels)\n",
    "print(\"Multinomial Naive Bayes is used.\")"
   ]
  },
  {
   "cell_type": "code",
   "execution_count": null,
   "metadata": {
    "colab": {},
    "colab_type": "code",
    "id": "q9X4oknXNSgU"
   },
   "outputs": [],
   "source": [
    "n_foldCV=int(input(\"Please Enter the Number of Folds:\"))\n",
    "attributes,instances,labels=loadDataSet(dataset)\n",
    "clf_M = MultinomialNB()\n",
    "scores = cross_val_score(clf_M, instances, labels, cv=n_foldCV)\n",
    "print(\"======MultinomialNB======\")\n",
    "print(np.array2string(scores,separator=\",\"))\n",
    "print(\"Accuracy: %0.2f (+/- %0.2f)\" % (scores.mean(), scores.std() * 2))"
   ]
  }
 ],
 "metadata": {
  "colab": {
   "name": "Notebook2_Naive_Bayes_Classifier.ipynb",
   "provenance": [],
   "toc_visible": true
  },
  "kernelspec": {
   "display_name": "Python 3",
   "language": "python",
   "name": "python3"
  },
  "language_info": {
   "codemirror_mode": {
    "name": "ipython",
    "version": 3
   },
   "file_extension": ".py",
   "mimetype": "text/x-python",
   "name": "python",
   "nbconvert_exporter": "python",
   "pygments_lexer": "ipython3",
   "version": "3.8.3"
  }
 },
 "nbformat": 4,
 "nbformat_minor": 1
}
