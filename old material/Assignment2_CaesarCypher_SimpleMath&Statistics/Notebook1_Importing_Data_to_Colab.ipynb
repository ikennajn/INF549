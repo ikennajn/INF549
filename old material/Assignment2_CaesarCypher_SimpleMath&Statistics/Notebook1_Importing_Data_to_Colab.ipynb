{
  "nbformat": 4,
  "nbformat_minor": 0,
  "metadata": {
    "colab": {
      "name": "Notebook1_Importing_Data_to_Colab.ipynb",
      "provenance": []
    },
    "kernelspec": {
      "name": "python3",
      "display_name": "Python 3"
    }
  },
  "cells": [
    {
      "cell_type": "markdown",
      "metadata": {
        "id": "Z7jmPo6sk3P9",
        "colab_type": "text"
      },
      "source": [
        "# A Notebook to Learn to Import Data in Colab"
      ]
    },
    {
      "cell_type": "markdown",
      "metadata": {
        "id": "DH1PnXCKm-J0",
        "colab_type": "text"
      },
      "source": [
        "## Downloading Dataset from the Internet"
      ]
    },
    {
      "cell_type": "markdown",
      "metadata": {
        "id": "WNWDIGSHnKzh",
        "colab_type": "text"
      },
      "source": [
        "The pip install commmand is used to install software packages in Python. We can use the pip install command to install the packages which are not available on Colab.\n",
        "\n",
        "We can install the wget package to download files from the internet. "
      ]
    },
    {
      "cell_type": "code",
      "metadata": {
        "id": "ZKDyAsGXwX8b",
        "colab_type": "code",
        "colab": {}
      },
      "source": [
        "pip install wget"
      ],
      "execution_count": null,
      "outputs": []
    },
    {
      "cell_type": "markdown",
      "metadata": {
        "id": "4sz6WyhHqHUD",
        "colab_type": "text"
      },
      "source": [
        "We are using the !wget command to download the lenses.data file directly from the archive.ics.uci.edu website. \n",
        "\n",
        "You can check the folder icon and click on the 'lenses.data' file to view the contents. "
      ]
    },
    {
      "cell_type": "code",
      "metadata": {
        "id": "EdeZY9iIwbFB",
        "colab_type": "code",
        "colab": {}
      },
      "source": [
        "!wget https://archive.ics.uci.edu/ml/machine-learning-databases/lenses/lenses.data"
      ],
      "execution_count": null,
      "outputs": []
    },
    {
      "cell_type": "markdown",
      "metadata": {
        "id": "GQ9ambwyq60V",
        "colab_type": "text"
      },
      "source": [
        "## Uploading Dataset from the Local Machine"
      ]
    },
    {
      "cell_type": "markdown",
      "metadata": {
        "id": "XkIULbFKq_zU",
        "colab_type": "text"
      },
      "source": [
        "Go inside the Data Folder in the following website: https://archive.ics.uci.edu/ml/datasets/Forest+Fires and download the 'forestfires.csv' file on your local machine.\n",
        "\n",
        "Click on the Folder icon and upload the file you just downloaded by clicking on the 'Upload to session storage' icon. "
      ]
    },
    {
      "cell_type": "markdown",
      "metadata": {
        "id": "ZqCFoiNGsx3i",
        "colab_type": "text"
      },
      "source": [
        "Dataframe is a pandas object which is a two dimensional labeled data structure with rows and columns. You can think of it like a spreadsheet or SQL table.\n",
        "\n",
        "Run the read_csv command to create a new dataframe and view the contents of the file. "
      ]
    },
    {
      "cell_type": "code",
      "metadata": {
        "id": "EH03tvl1wd-c",
        "colab_type": "code",
        "colab": {}
      },
      "source": [
        "import pandas as pd\n",
        "df = pd.read_csv(\"forestfires.csv\")\n",
        "display(df)"
      ],
      "execution_count": null,
      "outputs": []
    },
    {
      "cell_type": "markdown",
      "metadata": {
        "id": "4koxIGDHtZKe",
        "colab_type": "text"
      },
      "source": [
        "To get more information about the dataset, you should always read the names file. "
      ]
    }
  ]
}