{
 "cells": [
  {
   "cell_type": "markdown",
   "metadata": {},
   "source": [
    "# A Notebook to Visualize Data"
   ]
  },
  {
   "cell_type": "markdown",
   "metadata": {},
   "source": [
    "This notebook shows an example of how to customize a histogram visualization of your data. A histogram is an accurate representation of numerical data. It is an estimate of the probability distribution of a continuous variable. To construct a histogram, the first step is to set the number of bins. The bins are used to divide the entire range of values into a series of intervals and then count how many values fall into each interval.\n",
    "\n",
    "Run the cell below to load the histogram function."
   ]
  },
  {
   "cell_type": "code",
   "execution_count": null,
   "metadata": {
    "collapsed": true
   },
   "outputs": [],
   "source": [
    "def histogram(numbers,bins):\n",
    "    numbers=numbers.split(',')\n",
    "    try:\n",
    "        numbers=list(map(float,numbers))\n",
    "        import matplotlib.pyplot as plt\n",
    "        plt.hist(numbers,bins)\n",
    "        plt.title(\"Histogram\")\n",
    "        plt.xlabel(\"Value\")\n",
    "        plt.ylabel(\"Frequency\")\n",
    "        plt.show()\n",
    "        plt.close('all')\n",
    "    except:\n",
    "        print('Please Input Numbers Only')"
   ]
  },
  {
   "cell_type": "markdown",
   "metadata": {},
   "source": [
    "Create some fistitious list of scores for the class by running the cell below. You will be asked to input your numbers seperated by a comma and the number of bins.  "
   ]
  },
  {
   "cell_type": "code",
   "execution_count": null,
   "metadata": {},
   "outputs": [],
   "source": [
    "%matplotlib inline\n",
    "numbers = input('Please Enter the Numbers: ')\n",
    "bins=int(input('Please Enter the Number of Bins: '))\n",
    "histogram(numbers,bins)"
   ]
  },
  {
   "cell_type": "markdown",
   "metadata": {
    "collapsed": true
   },
   "source": [
    "Copy the cell below to run  with a different with a different number of bins. To create a new cell, click the \"+\" sign in the shortcut area and copy and paste the code that you want to rerun into it or select Insert -> Cell Below"
   ]
  },
  {
   "cell_type": "markdown",
   "metadata": {},
   "source": [
    "Now you can print this notebook and turn it in."
   ]
  }
 ],
 "metadata": {
  "anaconda-cloud": {},
  "kernelspec": {
   "display_name": "Python 3",
   "language": "python",
   "name": "python3"
  },
  "language_info": {
   "codemirror_mode": {
    "name": "ipython",
    "version": 3
   },
   "file_extension": ".py",
   "mimetype": "text/x-python",
   "name": "python",
   "nbconvert_exporter": "python",
   "pygments_lexer": "ipython3",
   "version": "3.7.3"
  }
 },
 "nbformat": 4,
 "nbformat_minor": 2
}
