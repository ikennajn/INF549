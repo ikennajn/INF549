{
 "cells": [
  {
   "cell_type": "markdown",
   "metadata": {},
   "source": [
    "# A Notebook to Summarize Data"
   ]
  },
  {
   "cell_type": "markdown",
   "metadata": {},
   "source": [
    "This notebook shows examples of how to summarize and visualize data. It generates a few statistical characteristics of the data (e.g., max, min, median, etc) and a visualization.  \n",
    "For those of you interested in the code, it uses predefined functions from the [numpy](http://www.numpy.org) library to store data and Python's [matplotlib](https://matplotlib.org) library to generate a plot."
   ]
  },
  {
   "cell_type": "markdown",
   "metadata": {},
   "source": [
    "**Run the cell below to load the definitions of two functions. The function \"display_summary_statistics\" takes a list of numbers as its argument and displays the min, 1st quartile, median, 3rd quartile and max of these numbers. The function \"plot_5_summary\" takes a list of numebrs as its arguments and generates a boxplot for these numbers.**"
   ]
  },
  {
   "cell_type": "code",
   "execution_count": null,
   "metadata": {
    "collapsed": true
   },
   "outputs": [],
   "source": [
    "from numpy import *\n",
    "def display_summary_statistics(numbers):\n",
    "    numbers=numbers.split(',')\n",
    "    try:\n",
    "        numbers=list(map(float,numbers))\n",
    "        Min=percentile(numbers,0)      \n",
    "        Q1=percentile(numbers,25)        \n",
    "        Median=percentile(numbers,50)\n",
    "        Q3=percentile(numbers,75)\n",
    "        Max=percentile(numbers,100)\n",
    "        return Min,Q1,Median,Q3,Max\n",
    "    except:\n",
    "        print('Please Input Numbers Only')\n",
    "\n",
    "def plot_5_summary(numbers):\n",
    "    numbers=numbers.split(',')\n",
    "    try:\n",
    "        numbers=list(map(float,numbers))\n",
    "        import matplotlib.pyplot as plt\n",
    "        plt.boxplot(numbers)\n",
    "        plt.show()\n",
    "        plt.close('all')\n",
    "    except:\n",
    "        print('Please Input Numbers Only')"
   ]
  },
  {
   "cell_type": "markdown",
   "metadata": {},
   "source": [
    "## Generating Summary Statistics for a Dataset##"
   ]
  },
  {
   "cell_type": "markdown",
   "metadata": {},
   "source": [
    "Run the cell below. Input a list of numbers and seperate them with commas. After processing, the cell will output five summary statistics for your data: max,min,median,Q1 and Q3.\n",
    "\n",
    "**QUESTIONS**:\n",
    "* What is Q1?\n",
    "* What is Q3?"
   ]
  },
  {
   "cell_type": "code",
   "execution_count": null,
   "metadata": {
    "scrolled": true
   },
   "outputs": [],
   "source": [
    "numbers = input('Please Enter a List of Numbers Separated by Commas: ')\n",
    "Min,Q1,Median,Q3,Max=display_summary_statistics(numbers)\n",
    "print('Min:',Min)\n",
    "print('Q1:', Q1)\n",
    "print('Median:',Median)\n",
    "print('Q3:',Q3)\n",
    "print('Max:',Max)"
   ]
  },
  {
   "cell_type": "markdown",
   "metadata": {},
   "source": [
    "## Generating a Plot##"
   ]
  },
  {
   "cell_type": "markdown",
   "metadata": {},
   "source": [
    "Run the cell below to generate a boxplot of your numbers. A boxplot shows the distribution of your numbers. The central rectangle in the plot spans the first quartile to the third quartile (the interquartile range or IQR). The organce segment inside the rectangle shows the median. When there are no outliers, i.e. data that are either 1.5×IQR or more above the third quartile or 1.5×IQR or more below the first quartile, the \"whiskers\" above and below the box show the locations of the minimum and maximum. When there are some outliers on either side of the box, the corresponding whisker represents the lowest datum still within 1.5 IQR of the lower quartile or the highest datum still within 1.5 IQR of the upper quartile."
   ]
  },
  {
   "cell_type": "code",
   "execution_count": null,
   "metadata": {},
   "outputs": [],
   "source": [
    "%matplotlib inline\n",
    "plot_5_summary(numbers)"
   ]
  },
  {
   "cell_type": "markdown",
   "metadata": {},
   "source": [
    "Now you can print this notebook and turn it in."
   ]
  }
 ],
 "metadata": {
  "anaconda-cloud": {},
  "kernelspec": {
   "display_name": "Python 3",
   "language": "python",
   "name": "python3"
  },
  "language_info": {
   "codemirror_mode": {
    "name": "ipython",
    "version": 3
   },
   "file_extension": ".py",
   "mimetype": "text/x-python",
   "name": "python",
   "nbconvert_exporter": "python",
   "pygments_lexer": "ipython3",
   "version": "3.7.3"
  }
 },
 "nbformat": 4,
 "nbformat_minor": 2
}
