{
 "cells": [
  {
   "cell_type": "markdown",
   "metadata": {
    "colab_type": "text",
    "id": "Z7jmPo6sk3P9"
   },
   "source": [
    "# A Notebook to Learn to Import Data in Colab"
   ]
  },
  {
   "cell_type": "markdown",
   "metadata": {
    "colab_type": "text",
    "id": "DH1PnXCKm-J0"
   },
   "source": [
    "## Downloading Dataset from the Internet"
   ]
  },
  {
   "cell_type": "markdown",
   "metadata": {
    "colab_type": "text",
    "id": "WNWDIGSHnKzh"
   },
   "source": [
    "The pip install commmand is used to install software packages in Python. We can use the pip install command to install the packages which are not available on Colab.\n",
    "\n",
    "We can install the wget package to download files from the internet. "
   ]
  },
  {
   "cell_type": "code",
   "execution_count": null,
   "metadata": {
    "colab": {},
    "colab_type": "code",
    "id": "ZKDyAsGXwX8b"
   },
   "outputs": [],
   "source": [
    "pip install wget"
   ]
  },
  {
   "cell_type": "markdown",
   "metadata": {
    "colab_type": "text",
    "id": "4sz6WyhHqHUD"
   },
   "source": [
    "We are using the !wget command to download the lenses.data file directly from the archive.ics.uci.edu website. \n",
    "\n",
    "You can check the folder icon and click on the 'lenses.data' file to view the contents. "
   ]
  },
  {
   "cell_type": "code",
   "execution_count": null,
   "metadata": {
    "colab": {},
    "colab_type": "code",
    "id": "EdeZY9iIwbFB"
   },
   "outputs": [],
   "source": [
    "!wget https://archive.ics.uci.edu/ml/machine-learning-databases/lenses/lenses.data"
   ]
  },
  {
   "cell_type": "markdown",
   "metadata": {
    "colab_type": "text",
    "id": "GQ9ambwyq60V"
   },
   "source": [
    "## Uploading Dataset from the Local Machine"
   ]
  },
  {
   "cell_type": "markdown",
   "metadata": {
    "colab_type": "text",
    "id": "XkIULbFKq_zU"
   },
   "source": [
    "Go inside the Data Folder in the following website: https://archive.ics.uci.edu/ml/datasets/Forest+Fires and download the 'forestfires.csv' file on your local machine.\n",
    "\n",
    "Click on the Folder icon and upload the file you just downloaded by clicking on the 'Upload to session storage' icon. "
   ]
  },
  {
   "cell_type": "markdown",
   "metadata": {
    "colab_type": "text",
    "id": "ZqCFoiNGsx3i"
   },
   "source": [
    "Run the read_csv command to create a new dataframe and view the contents of the file. "
   ]
  },
  {
   "cell_type": "code",
   "execution_count": null,
   "metadata": {
    "colab": {},
    "colab_type": "code",
    "id": "EH03tvl1wd-c"
   },
   "outputs": [],
   "source": [
    "import pandas as pd\n",
    "df = pd.read_csv(\"forestfires.csv\")\n",
    "display(df)"
   ]
  },
  {
   "cell_type": "markdown",
   "metadata": {
    "colab_type": "text",
    "id": "4koxIGDHtZKe"
   },
   "source": [
    "To get more information about the dataset, you should always read the names file. "
   ]
  }
 ],
 "metadata": {
  "colab": {
   "name": "Notebook1_Importing_Data_to_Colab.ipynb",
   "provenance": []
  },
  "kernelspec": {
   "display_name": "Python 3",
   "language": "python",
   "name": "python3"
  },
  "language_info": {
   "codemirror_mode": {
    "name": "ipython",
    "version": 3
   },
   "file_extension": ".py",
   "mimetype": "text/x-python",
   "name": "python",
   "nbconvert_exporter": "python",
   "pygments_lexer": "ipython3",
   "version": "3.8.3"
  }
 },
 "nbformat": 4,
 "nbformat_minor": 1
}
