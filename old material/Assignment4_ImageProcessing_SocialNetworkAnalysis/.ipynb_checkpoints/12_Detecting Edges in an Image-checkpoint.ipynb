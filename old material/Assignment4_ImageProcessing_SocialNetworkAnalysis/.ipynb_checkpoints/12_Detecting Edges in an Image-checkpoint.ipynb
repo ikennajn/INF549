{
 "cells": [
  {
   "cell_type": "markdown",
   "metadata": {},
   "source": [
    "# A Notebook to Run Canny Edge Detection\n",
    "\n",
    "This notebook will show you how to extract edges from images using a technique called Canny edge detection.  \n",
    "\n",
    "For those of you interested in the code, the notebook uses the [numpy](http://numpy.org) library to manage data and the [matplotlib](https://matplotlib.org) library to visualize the results, and an image processing library called [scikit-image](http://scikit-image.org).\n",
    "\n",
    "The following cell contains some predefined functions to implement [Canny edge detection](https://en.wikipedia.org/wiki/Canny_edge_detector). Please make sure you have run this cell before you run other cells in this notebook."
   ]
  },
  {
   "cell_type": "code",
   "execution_count": null,
   "metadata": {
    "collapsed": true
   },
   "outputs": [],
   "source": [
    "import numpy as np\n",
    "import matplotlib.pyplot as plt\n",
    "from skimage import feature,io,color\n",
    "\n",
    "def loadIMG():\n",
    "    filename=input(\"Please input the image filename:\")\n",
    "    sigma=input('Please input the sigma for edge detection: ').split(',')\n",
    "    #filename = os.path.abspath('rocks.jpg')\n",
    "    img = io.imread(filename)\n",
    "    return img,sigma\n",
    "\n",
    "def CannyEdge(img,sigma):\n",
    "    plt.clf()\n",
    "    if len(img.shape)!=2:\n",
    "        img1 = color.rgb2gray(img)\n",
    "    edges1 = feature.canny(img1, sigma=float(sigma[0]))\n",
    "    edges2 = feature.canny(img1, sigma=float(sigma[1]))\n",
    "    edges3 = feature.canny(img1, sigma=float(sigma[2]))\n",
    "    fig, (ax1,ax2,ax3,ax4) = plt.subplots(nrows=1, ncols=4, figsize=(12, 3),sharex=True, sharey=True)\n",
    "    ax1.imshow(img, cmap=plt.cm.gray)\n",
    "    ax1.axis('off')\n",
    "    ax1.set_title('Original Image', fontsize=10)\n",
    "    ax2.imshow(edges1, cmap=plt.cm.gray)\n",
    "    ax2.axis('off')\n",
    "    ax2.set_title('Canny Edge Image, $\\sigma=$'+sigma[0], fontsize=10)\n",
    "    ax3.imshow(edges2, cmap=plt.cm.gray)\n",
    "    ax3.axis('off')\n",
    "    ax3.set_title('Canny Edge Image, $\\sigma=$'+sigma[1], fontsize=10)\n",
    "    ax4.imshow(edges3, cmap=plt.cm.gray)\n",
    "    ax4.axis('off')\n",
    "    ax4.set_title('Canny Edge Image, $\\sigma=$'+sigma[2], fontsize=10)\n",
    "    fig.tight_layout()\n",
    "    plt.savefig('Edge Detection.png',dpi=300) \n",
    "    plt.show()  "
   ]
  },
  {
   "cell_type": "markdown",
   "metadata": {},
   "source": [
    "## Edge Detection with Different Parameters\n",
    "The following cell will detect the edges of a given image. Use one of the images in the 'Image processing' folder. You will be asked to input a value for a parameter, sigma (standard deviation for the Gaussian filter in Canny edge detection). The value of sigma value can be any number but any value from 0 to 3 will work well. **Please input three different sigma values separated with commas.** "
   ]
  },
  {
   "cell_type": "code",
   "execution_count": null,
   "metadata": {},
   "outputs": [],
   "source": [
    "img,sigma=loadIMG()\n",
    "CannyEdge(img,sigma)"
   ]
  },
  {
   "cell_type": "markdown",
   "metadata": {
    "collapsed": true
   },
   "source": [
    "** Tips: if you cannot see the picture very clearly, it has been saved in the same folder of this notebook.**\n",
    "\n",
    "**Question**: How does the effect of sigma affect edge detection?"
   ]
  }
 ],
 "metadata": {
  "kernelspec": {
   "display_name": "Python 3",
   "language": "python",
   "name": "python3"
  },
  "language_info": {
   "codemirror_mode": {
    "name": "ipython",
    "version": 3
   },
   "file_extension": ".py",
   "mimetype": "text/x-python",
   "name": "python",
   "nbconvert_exporter": "python",
   "pygments_lexer": "ipython3",
   "version": "3.7.3"
  }
 },
 "nbformat": 4,
 "nbformat_minor": 2
}
