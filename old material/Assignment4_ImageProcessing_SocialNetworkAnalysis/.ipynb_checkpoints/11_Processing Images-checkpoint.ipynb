{
 "cells": [
  {
   "cell_type": "markdown",
   "metadata": {},
   "source": [
    "# A Notebook for Smoothing and Segmenting Images\n",
    "\n",
    "This notebook allows you to **_smooth_** and **_segment_** images.\n",
    "\n",
    "For those of you interested in understanding the code, the notebook uses the [numpy](http://numpy.org) library to manage data, the [matplotlib](https://matplotlib.org) library to visualize the results, and an image processing library called [scikit-image](http://scikit-image.org).\n",
    "\n",
    "The following cell contains some predefined functions to implement [watershed segmentation](https://en.wikipedia.org/wiki/Watershed_(image_processing) and smoothing by [Gaussian filters](https://en.wikipedia.org/wiki/Gaussian_blur). Please make sure you have run this cell before you run other cells in this notebook."
   ]
  },
  {
   "cell_type": "markdown",
   "metadata": {},
   "source": [
    "## Preliminary Setup\n",
    "\n",
    "The following cell contains some predefined functions to smooth image and segment it. When you run the cell, the definitions of these functions will be incorporated into the notebook."
   ]
  },
  {
   "cell_type": "code",
   "execution_count": null,
   "metadata": {
    "collapsed": true
   },
   "outputs": [],
   "source": [
    "from scipy import ndimage as ndi\n",
    "import numpy as np\n",
    "import matplotlib.pyplot as plt\n",
    "from skimage import feature,io,color\n",
    "from skimage.morphology import watershed\n",
    "from skimage.filters import threshold_otsu,threshold_yen,gaussian\n",
    "\n",
    "\n",
    "def loadIMG():\n",
    "    filename=input(\"Please input the image filename:\")\n",
    "    #filename = os.path.abspath('rocks.jpg')\n",
    "    img = io.imread(filename)\n",
    "    #if len(img)!=2:\n",
    "    #    img = color.rgb2gray(img)\n",
    "    return img\n",
    "\n",
    "def Smooth(img):\n",
    "    smoothedImg = gaussian(img,sigma=2.5,multichannel=True)\n",
    "    return smoothedImg\n",
    "\n",
    "def displaySmooth(img):\n",
    "    plt.clf()\n",
    "    smoothedImg=Smooth(img)\n",
    "    fig, (ax1,ax2) = plt.subplots(nrows=1, ncols=2, figsize=(10, 4),sharex=True,\\\n",
    "                                  sharey=True)\n",
    "    ax1.imshow(img, cmap=plt.cm.gray)\n",
    "    ax1.axis('off')\n",
    "    ax1.set_title('Original Image', fontsize=10)\n",
    "    ax2.imshow(smoothedImg, cmap=plt.cm.gray)\n",
    "    ax2.axis('off')\n",
    "    ax2.set_title('Smoothed Image', fontsize=10)\n",
    "    fig.tight_layout()\n",
    "    plt.show() \n",
    "    \n",
    "def Segment(img):\n",
    "    if len(img.shape)>2:\n",
    "        img = color.rgb2gray(img)\n",
    "    #markers = np.zeros_like(img)\n",
    "    #markers[img < 0.5] = 1\n",
    "    #markers[img > 0.6] = 2\n",
    "    #segmentation = watershed(img, markers)\n",
    "    \n",
    "    #thresh = threshold_otsu(img)\n",
    "    thresh = threshold_yen(img)\n",
    "    segmentation = img > thresh\n",
    "    return segmentation\n",
    "\n",
    "def displaySegment(img):\n",
    "    plt.clf()\n",
    "    segmentation=Segment(img)\n",
    "    fig, (ax1,ax2) = plt.subplots(nrows=1, ncols=2, figsize=(10, 4),sharex=True,\\\n",
    "                                  sharey=True)\n",
    "    ax1.imshow(img, cmap=plt.cm.gray)\n",
    "    ax1.axis('off')\n",
    "    ax1.set_title('Original Image', fontsize=10)\n",
    "    ax2.imshow(segmentation, cmap=plt.cm.gray)\n",
    "    ax2.axis('off')\n",
    "    ax2.set_title('Segmented Image', fontsize=10)\n",
    "    fig.tight_layout()\n",
    "    plt.show() "
   ]
  },
  {
   "cell_type": "markdown",
   "metadata": {},
   "source": [
    "## Smooth an Image\n",
    "Run the following cell and input the filename of one of the images in the folder 'Image processing'."
   ]
  },
  {
   "cell_type": "code",
   "execution_count": null,
   "metadata": {},
   "outputs": [],
   "source": [
    "img=loadIMG()\n",
    "displaySmooth(img)"
   ]
  },
  {
   "cell_type": "markdown",
   "metadata": {},
   "source": [
    "**Question** How does the resulting image compare to the original image?"
   ]
  },
  {
   "cell_type": "markdown",
   "metadata": {},
   "source": [
    "## Segment an Image\n",
    "Run the following cell and input the filename of one of the images in the folder 'Image processing'. You may use the same image as in the previous question."
   ]
  },
  {
   "cell_type": "code",
   "execution_count": null,
   "metadata": {},
   "outputs": [],
   "source": [
    "img=loadIMG()\n",
    "displaySegment(img)"
   ]
  },
  {
   "cell_type": "markdown",
   "metadata": {},
   "source": [
    "**Question**: How does the resulting image compare to the original image? "
   ]
  },
  {
   "cell_type": "markdown",
   "metadata": {},
   "source": [
    "## Combining Smoothing and Segmenting\n",
    "\n",
    "The cell below defines a function to smooth and then segment an image.  It will output the original image, the segmented image, and the image after smoothing and then segmenting it."
   ]
  },
  {
   "cell_type": "code",
   "execution_count": null,
   "metadata": {
    "collapsed": true
   },
   "outputs": [],
   "source": [
    "def plotSmoothThenSegment(img1):\n",
    "    img2=Segment(img1)\n",
    "    #img3=Segment(img3)\n",
    "    img3=Smooth(img1)\n",
    "    img3=Segment(img3)\n",
    "    fig, (ax1,ax2,ax3) = plt.subplots(nrows=1, ncols=3, figsize=(15, 4),sharex=True,\\\n",
    "                                      sharey=True)\n",
    "    ax1.imshow(img1, cmap=plt.cm.gray)\n",
    "    ax1.axis('off')\n",
    "    ax1.set_title('Original Image', fontsize=10)\n",
    "    ax2.imshow(img2, cmap=plt.cm.gray)\n",
    "    ax2.axis('off')\n",
    "    ax2.set_title('Segmented Image', fontsize=10)\n",
    "    ax3.imshow(img3, cmap=plt.cm.gray)\n",
    "    ax3.axis('off')\n",
    "    ax3.set_title('Smoothed Then Segmented Image', fontsize=10)\n",
    "    fig.tight_layout()\n",
    "    plt.show() "
   ]
  },
  {
   "cell_type": "markdown",
   "metadata": {},
   "source": [
    "Running the following cell will execute that function using rocks.png in the 'Image processing' folder. "
   ]
  },
  {
   "cell_type": "code",
   "execution_count": null,
   "metadata": {},
   "outputs": [],
   "source": [
    "plotSmoothThenSegment(img)"
   ]
  },
  {
   "cell_type": "markdown",
   "metadata": {},
   "source": [
    "**Question**: How does smoothing and segmentation affect the edges in the image?"
   ]
  }
 ],
 "metadata": {
  "anaconda-cloud": {},
  "kernelspec": {
   "display_name": "Python 3",
   "language": "python",
   "name": "python3"
  },
  "language_info": {
   "codemirror_mode": {
    "name": "ipython",
    "version": 3
   },
   "file_extension": ".py",
   "mimetype": "text/x-python",
   "name": "python",
   "nbconvert_exporter": "python",
   "pygments_lexer": "ipython3",
   "version": "3.7.3"
  }
 },
 "nbformat": 4,
 "nbformat_minor": 2
}
