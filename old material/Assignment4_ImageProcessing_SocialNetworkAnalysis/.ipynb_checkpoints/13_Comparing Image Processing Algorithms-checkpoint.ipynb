{
 "cells": [
  {
   "cell_type": "markdown",
   "metadata": {},
   "source": [
    "# A Notebook for Image Segmentation and Edge Detection\n",
    "This notebook allows you to **_segment_** images and do **_edge detection_** for images.\n",
    "\n",
    "For those of you interested in understanding the code, the notebook uses the [numpy](http://numpy.org) library to manage data, the [matplotlib](https://matplotlib.org) library to visualize the results, and an image processing library called [scikit-image](http://scikit-image.org). For those of you interested in the code, the segmentation algorithm is threshold Yen and the edge detection algorithm is called Canny edge detection. \n",
    "\n",
    "The following cell contains some predefined functions to implement segmentation and edge detection. Please make sure you have run this cell before you run other cells in this notebook."
   ]
  },
  {
   "cell_type": "code",
   "execution_count": null,
   "metadata": {
    "collapsed": true
   },
   "outputs": [],
   "source": [
    "import numpy as np\n",
    "import matplotlib.pyplot as plt\n",
    "from skimage import feature,io,color\n",
    "from skimage.morphology import watershed\n",
    "from skimage.filters import threshold_otsu,threshold_yen\n",
    "\n",
    "def loadIMG():\n",
    "    filename=input(\"Please input the image filename:\")\n",
    "    img = io.imread(filename)\n",
    "    #if len(img.shape)!=2:\n",
    "    #    img = color.rgb2gray(img)\n",
    "    return img\n",
    "\n",
    "def CannyEdge(img,sigma=0.5):\n",
    "    if len(img.shape)!=2:\n",
    "        img = color.rgb2gray(img)\n",
    "    edges = feature.canny(img, sigma)\n",
    "    return edges\n",
    "\n",
    "def displayCannyEdge(img,sigma=0.5):\n",
    "    plt.clf()\n",
    "    edges1 = CannyEdge(img,sigma)\n",
    "    fig, (ax1,ax2) = plt.subplots(nrows=1, ncols=2, figsize=(10, 4),sharex=True, \\\n",
    "                                  sharey=True)\n",
    "    ax1.imshow(img, cmap=plt.cm.gray)\n",
    "    ax1.axis('off')\n",
    "    ax1.set_title('Original Image', fontsize=10)\n",
    "    ax2.imshow(edges1, cmap=plt.cm.gray)\n",
    "    ax2.axis('off')\n",
    "    ax2.set_title('Canny Edge Image', fontsize=10)\n",
    "    #plt.savefig('Edge Detection.png',dpi=300) \n",
    "    plt.show() \n",
    "\n",
    "def Segment(img):\n",
    "    if len(img.shape)!=2:\n",
    "        img = color.rgb2gray(img)\n",
    "    #thresh = threshold_otsu(img)\n",
    "    thresh = threshold_yen(img)\n",
    "    segmentation = img > thresh\n",
    "    #if len(img.shape)>2:\n",
    "    #    img = color.rgb2gray(img)\n",
    "    #markers = np.zeros_like(img)\n",
    "    #markers[img < 0.5] = False\n",
    "    #markers[img > 0.6] = True\n",
    "    #segmentation = watershed(img, markers)\n",
    "    #print(segmentation)\n",
    "    return segmentation\n",
    "\n",
    "def displaySegment(img):\n",
    "    plt.clf()\n",
    "    segmentation=Segment(img)\n",
    "    fig, (ax1,ax2) = plt.subplots(nrows=1, ncols=2, figsize=(10, 4),sharex=True,\\\n",
    "                                  sharey=True)\n",
    "    ax1.imshow(img, cmap=plt.cm.gray)\n",
    "    ax1.axis('off')\n",
    "    ax1.set_title('Original Image', fontsize=10)\n",
    "    ax2.imshow(segmentation, cmap=plt.cm.gray)\n",
    "    ax2.axis('off')\n",
    "    ax2.set_title('Segmented Image', fontsize=10)\n",
    "    fig.tight_layout()\n",
    "    plt.show() "
   ]
  },
  {
   "cell_type": "markdown",
   "metadata": {},
   "source": [
    "## Detecting Edges in an Image\n",
    "Run the following cell and input the filename of an image in the folder 'Image processing'."
   ]
  },
  {
   "cell_type": "code",
   "execution_count": null,
   "metadata": {},
   "outputs": [],
   "source": [
    "img=loadIMG()\n",
    "displaySegment(img)"
   ]
  },
  {
   "cell_type": "markdown",
   "metadata": {},
   "source": [
    "## Exploring Different Ways to Detect Edges\n",
    "The following cell will detect the edges of the given image. Use an image from the 'Image processing' folder. You will be asked to input a value for a parameter, sigma (standard deviation for the Gaussian filter in Canny edge detection). The value of sigma value can be any number but any value from 0 to 3 will work well.  \n",
    "\n",
    "**Copy and paste** this this cell several (at least 3) times with different values of sigma."
   ]
  },
  {
   "cell_type": "code",
   "execution_count": null,
   "metadata": {},
   "outputs": [],
   "source": [
    "img=loadIMG()\n",
    "sigma=float(input('Please input the sigma for edge detection: '))\n",
    "displayCannyEdge(img,sigma)"
   ]
  },
  {
   "cell_type": "markdown",
   "metadata": {},
   "source": [
    "**Question**: How does the value of sigma affect the edge detection?"
   ]
  },
  {
   "cell_type": "markdown",
   "metadata": {
    "collapsed": true
   },
   "source": [
    "## Combining Segmenting and Edge Detection\n",
    "The cell below defines a function to segment an image and then detect its edges. It will output the original image, the image with edge detection, and the image after segmenting and then detecting its edges.  "
   ]
  },
  {
   "cell_type": "code",
   "execution_count": null,
   "metadata": {
    "collapsed": true
   },
   "outputs": [],
   "source": [
    "def displaySegmentThenCanny(img,sigma=0.5):\n",
    "    plt.clf()\n",
    "    segmentation=Segment(img)\n",
    "    edges=CannyEdge(segmentation,sigma)\n",
    "    fig, (ax1,ax2,ax3) = plt.subplots(nrows=1, ncols=3, figsize=(15, 4),sharex=True, \\\n",
    "                                      sharey=True)\n",
    "    ax1.imshow(img, cmap=plt.cm.gray)\n",
    "    ax1.axis('off')\n",
    "    ax1.set_title('Original Image', fontsize=10)\n",
    "    ax2.imshow(segmentation, cmap=plt.cm.gray)\n",
    "    ax2.axis('off')\n",
    "    ax2.set_title('Segmented Image', fontsize=10)\n",
    "    ax3.imshow(edges, cmap=plt.cm.gray)\n",
    "    ax3.axis('off')\n",
    "    ax3.set_title('Segmented then Edged Image', fontsize=10)\n",
    "    fig.tight_layout()\n",
    "    plt.savefig('Segmenting and Edge Detection.png',dpi=300) \n",
    "    plt.show() "
   ]
  },
  {
   "cell_type": "markdown",
   "metadata": {},
   "source": [
    "Running the following cell will execute that function with an image in the 'Image processing' folder.\n",
    "\n",
    "**Copy and paste** the cell below several (at least 3) times with different value of sigma."
   ]
  },
  {
   "cell_type": "code",
   "execution_count": null,
   "metadata": {},
   "outputs": [],
   "source": [
    "img=loadIMG()\n",
    "sigma=float(input('Please input the sigma for edge detection: '))\n",
    "displaySegmentThenCanny(img,sigma)"
   ]
  },
  {
   "cell_type": "markdown",
   "metadata": {
    "collapsed": true
   },
   "source": [
    "**Tips: if you cannot see the picture very clearly in the notebook, it has been saved at the same folder of this notebook.**\n",
    "\n",
    "**Question**: How does the value of sigma affect the edge detection?\n",
    "\n",
    "**Question**: Does segmentation improve edge detection?"
   ]
  },
  {
   "cell_type": "code",
   "execution_count": null,
   "metadata": {},
   "outputs": [],
   "source": []
  }
 ],
 "metadata": {
  "kernelspec": {
   "display_name": "Python 3",
   "language": "python",
   "name": "python3"
  },
  "language_info": {
   "codemirror_mode": {
    "name": "ipython",
    "version": 3
   },
   "file_extension": ".py",
   "mimetype": "text/x-python",
   "name": "python",
   "nbconvert_exporter": "python",
   "pygments_lexer": "ipython3",
   "version": "3.7.3"
  }
 },
 "nbformat": 4,
 "nbformat_minor": 2
}
