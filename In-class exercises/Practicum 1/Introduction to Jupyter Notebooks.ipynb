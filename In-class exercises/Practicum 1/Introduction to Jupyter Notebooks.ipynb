{
 "cells": [
  {
   "cell_type": "markdown",
   "metadata": {},
   "source": [
    "# Introduction to Jupyter Notebooks\n",
    "\n",
    "Jupyter Notebooks are computational notebooks that nativaley accept code in Python, R and Julia. The notebook contains code cells that can be executed and text cells such as this one that can provide context for the analysis.\n",
    "\n",
    "Text is written in the [Markdown language](https://www.markdownguide.org). If you want to see what the raw text looks like, double click on the cell."
   ]
  },
  {
   "cell_type": "markdown",
   "metadata": {},
   "source": [
    "To execute a cell (including rendering the text or a markdown cell), you can either press run or `shift+enter`."
   ]
  },
  {
   "cell_type": "markdown",
   "metadata": {},
   "source": [
    "To shift between code and markdown, you can use the drop-down menu in the menu bar. \n",
    "\n",
    "Let's run our first code cell:"
   ]
  },
  {
   "cell_type": "code",
   "execution_count": null,
   "metadata": {},
   "outputs": [],
   "source": [
    "print(\"hello world!\")"
   ]
  },
  {
   "cell_type": "markdown",
   "metadata": {},
   "source": [
    "Congratulations! you just ran you first code.\n",
    "\n",
    "You can also run this entire notebook by selecting `Cell->Run All`"
   ]
  },
  {
   "cell_type": "markdown",
   "metadata": {},
   "source": [
    "If you did so, you should have noticed that the number next to cell increased. The notebook keeps track of executions. Therefore, this number is meaningless if you try to communicate to someone that the first cell is not working."
   ]
  },
  {
   "cell_type": "markdown",
   "metadata": {},
   "source": [
    "## Import libraries\n",
    "\n",
    "The Python installation contains command to create and manipulate objects in Python. For instance, let's create a list of fruits and return it in the variable called `fruits`."
   ]
  },
  {
   "cell_type": "code",
   "execution_count": null,
   "metadata": {},
   "outputs": [],
   "source": [
    "fruits = ['apple','banana','kiwi']"
   ]
  },
  {
   "cell_type": "markdown",
   "metadata": {},
   "source": [
    "If I want to see what `fruits` contain I can type:"
   ]
  },
  {
   "cell_type": "code",
   "execution_count": null,
   "metadata": {},
   "outputs": [],
   "source": [
    "print(fruits)"
   ]
  },
  {
   "cell_type": "raw",
   "metadata": {},
   "source": [
    "or more simply:"
   ]
  },
  {
   "cell_type": "code",
   "execution_count": null,
   "metadata": {},
   "outputs": [],
   "source": [
    "fruits"
   ]
  },
  {
   "cell_type": "markdown",
   "metadata": {},
   "source": [
    "Notice the brackets; they indicate that the variable fruits is a Python list.\n",
    "\n",
    "Although the Python installation contains valuable command to manipulate objects, more specialized packages are often needed. In data science, you will most likely use [Pandas](https://pandas.pydata.org), [Numpy](https://numpy.org), [Matplotlib](https://matplotlib.org) for plotting, [Scipy](https://www.scipy.org/scipylib/index.html) for linear algebra and statistics, and [Scikit-learn](https://scikit-learn.org/stable/) for machine learning among others. We will be using these libraries (and plenty more) in this class.\n",
    "\n",
    "When you want to work with these libraries in Python, you need to import them."
   ]
  },
  {
   "cell_type": "code",
   "execution_count": null,
   "metadata": {},
   "outputs": [],
   "source": [
    "import numpy as np\n",
    "import matplotlib.pyplot as plt"
   ]
  },
  {
   "cell_type": "markdown",
   "metadata": {},
   "source": [
    "You have just told Python that any command with the prefix `np` should be taken from the Numpy libraries. This is very useful so that various libraries can internally use the same function name but not get them confused!\n",
    "\n",
    "Let's import one more to illustrate this concept."
   ]
  },
  {
   "cell_type": "code",
   "execution_count": null,
   "metadata": {},
   "outputs": [],
   "source": [
    "import pandas as pd"
   ]
  },
  {
   "cell_type": "markdown",
   "metadata": {},
   "source": [
    "## Plotting with Python\n",
    "\n",
    "We're going to create a simple plot with randomly generated data. Let's use Numpy to do so (notice `np.arange`: I'm calling the `arange` function from `numpy`)."
   ]
  },
  {
   "cell_type": "code",
   "execution_count": null,
   "metadata": {},
   "outputs": [],
   "source": [
    "x = np.arange(1,50,2)\n",
    "y = 2*np.sin(x)"
   ]
  },
  {
   "cell_type": "markdown",
   "metadata": {},
   "source": [
    "Much like with the list above, I can look at my data"
   ]
  },
  {
   "cell_type": "code",
   "execution_count": null,
   "metadata": {},
   "outputs": [],
   "source": [
    "y"
   ]
  },
  {
   "cell_type": "markdown",
   "metadata": {},
   "source": [
    "Notice that it says `array` here because I have created a `numpy.array` object rather than a list, which opened up more possibilities. \n",
    "\n",
    "Let's plot with Matplotlib:"
   ]
  },
  {
   "cell_type": "code",
   "execution_count": null,
   "metadata": {},
   "outputs": [],
   "source": [
    "plt.plot(x,y)"
   ]
  },
  {
   "cell_type": "markdown",
   "metadata": {},
   "source": [
    "Now let's create a Pandas Series:"
   ]
  },
  {
   "cell_type": "code",
   "execution_count": null,
   "metadata": {},
   "outputs": [],
   "source": [
    "ds = pd.Series(y,index=x)\n",
    "ds"
   ]
  },
  {
   "cell_type": "markdown",
   "metadata": {},
   "source": [
    "And let's plot it!"
   ]
  },
  {
   "cell_type": "code",
   "execution_count": null,
   "metadata": {},
   "outputs": [],
   "source": [
    "ds.plot()"
   ]
  }
 ],
 "metadata": {
  "kernelspec": {
   "display_name": "Python 3",
   "language": "python",
   "name": "python3"
  },
  "language_info": {
   "codemirror_mode": {
    "name": "ipython",
    "version": 3
   },
   "file_extension": ".py",
   "mimetype": "text/x-python",
   "name": "python",
   "nbconvert_exporter": "python",
   "pygments_lexer": "ipython3",
   "version": "3.7.6"
  }
 },
 "nbformat": 4,
 "nbformat_minor": 4
}
