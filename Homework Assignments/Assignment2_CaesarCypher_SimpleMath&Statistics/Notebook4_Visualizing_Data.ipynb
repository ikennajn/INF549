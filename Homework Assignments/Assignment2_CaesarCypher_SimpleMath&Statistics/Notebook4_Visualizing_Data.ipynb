{
 "cells": [
  {
   "cell_type": "markdown",
   "metadata": {},
   "source": [
    "# A Notebook to Visualize Data"
   ]
  },
  {
   "cell_type": "markdown",
   "metadata": {},
   "source": [
    "This notebook shows an example of how to customize a histogram visualization of your data. A histogram is an accurate representation of numerical data. It is an estimate of the probability distribution of a continuous variable. To construct a histogram, the first step is to set the number of bins. The bins are used to divide the entire range of values into a series of intervals and then count how many values fall into each interval.\n",
    "\n",
    "Run the cell below to load the histogram function."
   ]
  },
  {
   "cell_type": "code",
   "execution_count": null,
   "metadata": {
    "collapsed": true
   },
   "outputs": [],
   "source": [
    "def histogram(numbers,bins):\n",
    "    numbers=numbers.split(',')\n",
    "    try:\n",
    "        numbers=list(map(float,numbers))\n",
    "        import matplotlib.pyplot as plt\n",
    "        plt.hist(numbers,bins)\n",
    "        plt.title(\"Histogram\")\n",
    "        plt.xlabel(\"Value\")\n",
    "        plt.ylabel(\"Frequency\")\n",
    "        plt.show()\n",
    "        plt.close('all')\n",
    "    except:\n",
    "        print('Please Input Numbers Only')"
   ]
  },
  {
   "cell_type": "markdown",
   "metadata": {},
   "source": [
    "Create some fistitious list of scores for the class by running the cell below. You will be asked to input your numbers seperated by a comma and the number of bins.  "
   ]
  },
  {
   "cell_type": "code",
   "execution_count": null,
   "metadata": {},
   "outputs": [],
   "source": [
    "%matplotlib inline\n",
    "numbers = input('Please Enter the Numbers: ')\n",
    "bins=int(input('Please Enter the Number of Bins: '))\n",
    "histogram(numbers,bins)"
   ]
  }
 ],
 "metadata": {
  "anaconda-cloud": {},
  "kernelspec": {
   "display_name": "Python 3",
   "language": "python",
   "name": "python3"
  },
  "language_info": {
   "codemirror_mode": {
    "name": "ipython",
    "version": 3
   },
   "file_extension": ".py",
   "mimetype": "text/x-python",
   "name": "python",
   "nbconvert_exporter": "python",
   "pygments_lexer": "ipython3",
   "version": "3.8.3"
  }
 },
 "nbformat": 4,
 "nbformat_minor": 2
}
