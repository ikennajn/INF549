{
 "cells": [
  {
   "cell_type": "markdown",
   "metadata": {},
   "source": [
    "# A Notebook to Use Naïve Bayes Classifiers"
   ]
  },
  {
   "cell_type": "markdown",
   "metadata": {},
   "source": [
    "This notebook shows how to train a Naïve Bayes classifier to classify unseen instances.\n",
    "\n",
    "For those of you interested in understanding the code, it uses predefined functions from the [sklearn](http://scikit-learn.org) library of machine learning primitives. A few more details about the code:  \n",
    "* The variable \"dataset\" stores the name of text file that you input and is passed as an argument of the function \"loadDataSet()\".  \n",
    "* After processing, the loadDataSet function will output, or in other words, return two variables, \"instances\", and \"labels\".  \n",
    "* \"instances\" stores the feature vector of each instance. \"labels\" stores the labels of all instances.   \n",
    "* The variable \"n_foldCV\" stores the number of times of n-fold cross validation that you input.\n",
    "* The variable \"choice\" stores your choice of classifiers. \"instances\", \"labels\" and \"choice\" are the arguments of function chooseClassifier and the function return a variable \"clf\".\n",
    "* The variable \"clf\" stores up to three Naive Bayes models, and it can be fitted with \"instances\" and \"labels\". Once the model are trained, they can be used to predict unseen instances. "
   ]
  },
  {
   "cell_type": "code",
   "execution_count": null,
   "metadata": {
    "collapsed": true
   },
   "outputs": [],
   "source": [
    "import numpy as np\n",
    "from sklearn.naive_bayes import BernoulliNB,GaussianNB,MultinomialNB\n",
    "from sklearn.model_selection import cross_val_score\n",
    "\n",
    "def loadDataSet(dataset): \n",
    "    with open(dataset) as f:\n",
    "        data=f.readlines()\n",
    "        attributes=data[0].rstrip().split(',')[:-1]\n",
    "        instances=[entry.rstrip().split(',')[:-1] for entry in data[1:]]\n",
    "        dataArray=[]\n",
    "        Dict={}\n",
    "        for i in range(len(instances[0])):\n",
    "            try:\n",
    "                dataArray.append([float(instance[i]) for instance in instances])\n",
    "            except:\n",
    "                encodedData,vocab=encode([instance[i] for instance in instances])\n",
    "                dataArray.append(encodedData)\n",
    "                Dict[i]=vocab\n",
    "                print(attributes[i],': ',list(vocab.items()))\n",
    "        instances=np.array(dataArray).T\n",
    "        labels=[entry.rstrip().split(',')[-1] for entry in data[1:]]\n",
    "        return instances,labels,Dict\n",
    "\n",
    "def encode(data):\n",
    "    vocab={}\n",
    "    uniqueVals=list(set(data))\n",
    "    for Val in uniqueVals:\n",
    "        vocab[Val]=uniqueVals.index(Val)\n",
    "    encodedData=list(map(uniqueVals.index,data))\n",
    "    return encodedData,vocab\n",
    "\n",
    "\n",
    "def predict(testset):\n",
    "    if \"clf_G\" in globals():\n",
    "        prediction=clf_G.predict(testset)\n",
    "        print(\"GaussianNB: \",prediction)\n",
    "    if \"clf_M\" in globals():\n",
    "        prediction=clf_M.predict(testset)\n",
    "        print(\"MultinomialNB: \",prediction)"
   ]
  },
  {
   "cell_type": "markdown",
   "metadata": {},
   "source": [
    "## Training: Build a Naïve Bayes Classifier##\n",
    "The cell below asks for a dataset. It trains a Naïve Bayes classifier. There are three Naive Bayes classifiers provided. They are based on different math fundations and might have different performance over different datasets.   \n",
    "\n",
    "We provide two classification datasets that could be applied to the Naïve Bayes algorithms. \n",
    "* [\"iris.txt\"](https://archive.ics.uci.edu/ml/datasets/iris) has four attributes with continuous values describing three different iris species.\n",
    "* [\"lenses.txt\"](https://archive.ics.uci.edu/ml/datasets/lenses) contains four attributes with discrete values and three classes."
   ]
  },
  {
   "cell_type": "markdown",
   "metadata": {},
   "source": [
    "### Gaussian Naïve Bayes Classifier"
   ]
  },
  {
   "cell_type": "code",
   "execution_count": null,
   "metadata": {},
   "outputs": [],
   "source": [
    "dataset=input(\"Please Enter Your Data Set:\")\n",
    "instances,labels,Dict=loadDataSet(dataset)\n",
    "clf_G = GaussianNB()\n",
    "clf_G.fit(instances, labels)\n",
    "print(\"Gaussian Naive Bayes is used.\")"
   ]
  },
  {
   "cell_type": "markdown",
   "metadata": {},
   "source": [
    "### Multinomial Naive Bayes Classifier"
   ]
  },
  {
   "cell_type": "code",
   "execution_count": null,
   "metadata": {},
   "outputs": [],
   "source": [
    "dataset=input(\"Please Enter Your Data Set:\")\n",
    "instances,labels,Dict=loadDataSet(dataset)\n",
    "clf_M = MultinomialNB()\n",
    "clf_M.fit(instances, labels)\n",
    "print(\"Multinomial Naive Bayes is used.\")"
   ]
  },
  {
   "cell_type": "markdown",
   "metadata": {
    "collapsed": true
   },
   "source": [
    "## Predict unseen instances##\n",
    "When you are prompted to input a test set, please create an example of an instance that looks like the instances in the training set.  For example, if you trained the classifier with contact lenses data, you should create an instance that has the same kinds of features.  For example:\n",
    "\n",
    "\"young,myope,yes,normal\"\n",
    "\n",
    "\n",
    "Each feature value is separated with a comma, and should have the same length as the instances in the training set. "
   ]
  },
  {
   "cell_type": "code",
   "execution_count": null,
   "metadata": {},
   "outputs": [],
   "source": [
    "testset=input('Please Enter Your Test Set:')\n",
    "testset=testset.split(\",\")\n",
    "temp=[]\n",
    "for i in range(len(testset)):\n",
    "    try:\n",
    "        temp.append(float(testset[i]))\n",
    "    except:\n",
    "        temp.append(Dict[i][testset[i]])\n",
    "testset=np.array(temp).reshape((1,len(temp)))"
   ]
  },
  {
   "cell_type": "code",
   "execution_count": null,
   "metadata": {},
   "outputs": [],
   "source": [
    "predict(testset)"
   ]
  },
  {
   "cell_type": "markdown",
   "metadata": {},
   "source": [
    "## Evaluate a classifier##\n",
    "The following cell will output the accuracy score in each run and the accuracy estimate of the model under 95% confidence interval.  "
   ]
  },
  {
   "cell_type": "markdown",
   "metadata": {},
   "source": [
    "### Gaussian Naïve Bayes Classifier"
   ]
  },
  {
   "cell_type": "code",
   "execution_count": null,
   "metadata": {},
   "outputs": [],
   "source": [
    "dataset=input('Please Enter Your Test Data:')\n",
    "n_foldCV=int(input(\"Please Enter the Number of Folds:\"))\n",
    "instances,labels,Dict=loadDataSet(dataset)\n",
    "clf_G = GaussianNB()\n",
    "scores = cross_val_score(clf_G, instances, labels, cv=n_foldCV)\n",
    "print(\"======GaussianNB======\")\n",
    "print(np.array2string(scores,separator=\",\"))\n",
    "print(\"Accuracy: %0.2f (+/- %0.2f)\" % (scores.mean(), scores.std() * 2))"
   ]
  },
  {
   "cell_type": "markdown",
   "metadata": {},
   "source": [
    "### Multinomial Naive Bayes"
   ]
  },
  {
   "cell_type": "code",
   "execution_count": null,
   "metadata": {},
   "outputs": [],
   "source": [
    "dataset=input('Please Enter Your Test Data:')\n",
    "n_foldCV=int(input(\"Please Enter the Number of Folds:\"))\n",
    "instances,labels,Dict=loadDataSet(dataset)\n",
    "clf_M = MultinomialNB()\n",
    "scores = cross_val_score(clf_M, instances, labels, cv=n_foldCV)\n",
    "print(\"======MultinomialNB======\")\n",
    "print(np.array2string(scores,separator=\",\"))\n",
    "print(\"Accuracy: %0.2f (+/- %0.2f)\" % (scores.mean(), scores.std() * 2))"
   ]
  },
  {
   "cell_type": "markdown",
   "metadata": {},
   "source": [
    "**Question**: Which classifier has the better accuracy?"
   ]
  },
  {
   "cell_type": "markdown",
   "metadata": {},
   "source": [
    "### Extra Credit:  Bernoulii Naïve Bayes Classifier\n",
    "Try to train a Bernoulli Naïve Bayes classifier on any of the dataset and report its performance. **Question**: Does it perform well or not? If not, can you explain why it doesn't work well on the dataset and give some solutions? "
   ]
  },
  {
   "cell_type": "code",
   "execution_count": null,
   "metadata": {},
   "outputs": [],
   "source": [
    "dataset=input('Please Enter Your Test Data:')\n",
    "n_foldCV=int(input(\"Please Enter the Number of Folds:\"))\n",
    "instances,labels,Dict=loadDataSet(dataset)\n",
    "clf_B = BernoulliNB()\n",
    "scores = cross_val_score(clf_B, instances, labels, cv=n_foldCV)\n",
    "print(\"======BernoulliNB======\")\n",
    "print(np.array2string(scores,separator=\",\"))\n",
    "print(\"Accuracy: %0.2f (+/- %0.2f)\" % (scores.mean(), scores.std() * 2))"
   ]
  },
  {
   "cell_type": "code",
   "execution_count": null,
   "metadata": {
    "collapsed": true
   },
   "outputs": [],
   "source": []
  }
 ],
 "metadata": {
  "anaconda-cloud": {},
  "kernelspec": {
   "display_name": "Python 3",
   "language": "python",
   "name": "python3"
  },
  "language_info": {
   "codemirror_mode": {
    "name": "ipython",
    "version": 3
   },
   "file_extension": ".py",
   "mimetype": "text/x-python",
   "name": "python",
   "nbconvert_exporter": "python",
   "pygments_lexer": "ipython3",
   "version": "3.7.3"
  }
 },
 "nbformat": 4,
 "nbformat_minor": 2
}
