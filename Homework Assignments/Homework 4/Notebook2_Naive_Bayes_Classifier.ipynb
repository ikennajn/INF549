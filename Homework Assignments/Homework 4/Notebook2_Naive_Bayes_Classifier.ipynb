{
 "cells": [
  {
   "cell_type": "markdown",
   "metadata": {
    "id": "DSosXj75MDey"
   },
   "source": [
    "# A Notebook to Use Naïve Bayes Classifiers"
   ]
  },
  {
   "cell_type": "markdown",
   "metadata": {
    "id": "S5xbMR4pMJe5"
   },
   "source": [
    "This notebook shows how to train Naïve Bayes classifiers to classify unseen instances.\n",
    "\n",
    "For those of you interested in understanding the code, it uses predefined functions from the [sklearn](http://scikit-learn.org) library of machine learning primitives. "
   ]
  },
  {
   "cell_type": "markdown",
   "metadata": {
    "id": "Tt2a5F56MORA"
   },
   "source": [
    "Naïve Bayes Classifer is a probabilistic classifier which is based on Bayes Theorem. It can be used to find the probability of Hypothesis (H) being True given an event (E) has occurred. \n",
    "\n",
    "$$\n",
    "P(H|E)= \\frac{P(E|H)*P(H)}{P(E)}\n",
    "$$\n",
    "\n",
    "First import the data and load custom functions"
   ]
  },
  {
   "cell_type": "code",
   "execution_count": null,
   "metadata": {
    "colab": {
     "base_uri": "https://localhost:8080/"
    },
    "id": "FejnTcFRK7-M",
    "outputId": "7a7150fe-e9b0-481d-aa51-d0226bf2d2bc"
   },
   "outputs": [],
   "source": [
    "!wget https://raw.githubusercontent.com/khider/INF549/master/Homework%20Assignments/Homework%204/Dataset/lenses.csv\n",
    "!wget https://raw.githubusercontent.com/khider/INF549/master/Homework%20Assignments/Homework%204/Dataset/iris.csv "
   ]
  },
  {
   "cell_type": "code",
   "execution_count": null,
   "metadata": {
    "id": "K8YfJdLAMQUY"
   },
   "outputs": [],
   "source": [
    "import numpy as np\n",
    "from sklearn.naive_bayes import BernoulliNB,GaussianNB,MultinomialNB\n",
    "from sklearn.model_selection import cross_val_score\n",
    "\n",
    "def loadDataSet(dataset): \n",
    "    with open(dataset) as f:\n",
    "        data=f.readlines()\n",
    "        attributes=data[0].rstrip().split(',')[:-1]\n",
    "        instances=[entry.rstrip().split(',')[:-1] for entry in data[1:]]\n",
    "        dataArray=[]\n",
    "        for i in range(len(instances[0])):\n",
    "            dataArray.append([float(instance[i]) for instance in instances])\n",
    "        instances=np.array(dataArray).T\n",
    "        labels=[entry.rstrip().split(',')[-1] for entry in data[1:]]\n",
    "        return attributes,instances,labels\n",
    "\n",
    "\n",
    "\n",
    "def predict(testset):\n",
    "    if \"clf_G\" in globals():\n",
    "        prediction=clf_G.predict(testset)\n",
    "        print(\"GaussianNB: \",prediction)\n",
    "    if \"clf_M\" in globals():\n",
    "        prediction=clf_M.predict(testset)\n",
    "        print(\"MultinomialNB: \",prediction)"
   ]
  },
  {
   "cell_type": "markdown",
   "metadata": {
    "id": "sxuR53uWMeC4"
   },
   "source": [
    "## Building and Evaluating Naïve Bayes Classifiers##\n",
    "\n",
    "We will be looking at the performance of two different Naïve Bayes Classifier. \n",
    "\n",
    "* Multinomial Naïve Bayes: suitable for classification with discrete features.\n",
    "* Gaussian Naïve Bayes: suitable for classification with continuous features."
   ]
  },
  {
   "cell_type": "markdown",
   "metadata": {
    "id": "E_f2mPUWMg8w"
   },
   "source": [
    "### Gaussian Naïve Bayes Classifier"
   ]
  },
  {
   "cell_type": "code",
   "execution_count": null,
   "metadata": {
    "colab": {
     "base_uri": "https://localhost:8080/"
    },
    "id": "PZIYt4ogMehM",
    "outputId": "7ceb0882-0a14-4f5a-c893-cb36f22141eb"
   },
   "outputs": [],
   "source": [
    "dataset=input('Please Enter Your Dataset:')\n",
    "attributes,instances,labels=loadDataSet(dataset)\n",
    "clf_G = GaussianNB()\n",
    "clf_G.fit(instances, labels)\n",
    "print(\"Gaussian Naïve Bayes is used.\")"
   ]
  },
  {
   "cell_type": "code",
   "execution_count": null,
   "metadata": {
    "colab": {
     "base_uri": "https://localhost:8080/"
    },
    "id": "X3XGVx_VNJT2",
    "outputId": "a3f27315-7c69-463c-fefe-84f52c225d1c"
   },
   "outputs": [],
   "source": [
    "n_foldCV=int(input(\"Please Enter the Number of Folds:\"))\n",
    "attributes,instances,labels=loadDataSet(dataset)\n",
    "clf_G = GaussianNB()\n",
    "scores = cross_val_score(clf_G, instances, labels, cv=n_foldCV)\n",
    "print(\"======GaussianNB======\")\n",
    "print(np.array2string(scores,separator=\",\"))\n",
    "print(\"Accuracy: %0.2f (+/- %0.2f)\" % (scores.mean(), scores.std() * 2))"
   ]
  },
  {
   "cell_type": "markdown",
   "metadata": {
    "id": "Q3jMYqa0Mp1s"
   },
   "source": [
    "### Multinomial Naïve Bayes Classifier\n",
    "\n",
    "\n",
    "\n"
   ]
  },
  {
   "cell_type": "code",
   "execution_count": null,
   "metadata": {
    "id": "aGuMAg3OMlkQ"
   },
   "outputs": [],
   "source": [
    "dataset=input('Please Enter Your Dataset:')\n",
    "attributes,instances,labels=loadDataSet(dataset)\n",
    "clf_M = MultinomialNB()\n",
    "clf_M.fit(instances, labels)\n",
    "print(\"Multinomial Naïve Bayes is used.\")"
   ]
  },
  {
   "cell_type": "code",
   "execution_count": null,
   "metadata": {
    "id": "q9X4oknXNSgU"
   },
   "outputs": [],
   "source": [
    "n_foldCV=int(input(\"Please Enter the Number of Folds:\"))\n",
    "attributes,instances,labels=loadDataSet(dataset)\n",
    "clf_M = MultinomialNB()\n",
    "scores = cross_val_score(clf_M, instances, labels, cv=n_foldCV)\n",
    "print(\"======MultinomialNB======\")\n",
    "print(np.array2string(scores,separator=\",\"))\n",
    "print(\"Accuracy: %0.2f (+/- %0.2f)\" % (scores.mean(), scores.std() * 2))"
   ]
  }
 ],
 "metadata": {
  "colab": {
   "name": "Notebook2_Naive_Bayes_Classifier.ipynb",
   "provenance": [],
   "toc_visible": true
  },
  "kernelspec": {
   "display_name": "Python 3",
   "language": "python",
   "name": "python3"
  },
  "language_info": {
   "codemirror_mode": {
    "name": "ipython",
    "version": 3
   },
   "file_extension": ".py",
   "mimetype": "text/x-python",
   "name": "python",
   "nbconvert_exporter": "python",
   "pygments_lexer": "ipython3",
   "version": "3.7.6"
  }
 },
 "nbformat": 4,
 "nbformat_minor": 1
}
