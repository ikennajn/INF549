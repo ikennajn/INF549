{
 "cells": [
  {
   "cell_type": "markdown",
   "metadata": {
    "id": "kPbGemjwXPMb"
   },
   "source": [
    "# A Notebook to use Decision Tree Classifiers\n",
    "\n",
    "This notebook shows how to train a decision tree to classify unseen instances.\n",
    "\n",
    "For those of you interested in understanding the code, it uses predefined functions from the sklearn library of machine learning primitives and from the graphviz library to generate visualizations. A few more details about the code:\n",
    "* The variable \"dataset\" stores the name of text file that you input and is passed as an argument of the function \"loadDataSet()\".\n",
    "* The variable \"attributes\" stores the names of all features. The variable \"instances\" stores the values of all features in the training set. The variable \"labels\" stores the labels of all instances.\n",
    "* The variable \"clf\" stores a decision tree model, and it can be trained with \"instances\" and \"labels\". Once the model is trained, it can be used to predict unseen instances. We use a type of decision tree algorithm called CART (Classification and Regression Trees).\n",
    "The variable \"n_foldCV\" stores the number of times of n-fold cross validation that you input.\n",
    "* The function \"cross_val_scores\" assesses the accuracy scores of a decision tree model. Its inputs are \"clf\", \"instances\", \"labels\", \"n_foldCV\".\n",
    "* The variable \"scores\" stores the accuracy of an n-fold cross validation of the model.\n",
    "\n",
    "The first step is to get the data. Here we use bash command within the notebook (preceded by `!`) to download the data."
   ]
  },
  {
   "cell_type": "code",
   "execution_count": null,
   "metadata": {
    "colab": {
     "base_uri": "https://localhost:8080/"
    },
    "id": "4doj5vWxbIym",
    "outputId": "15009328-4987-4855-a23f-53ac189c8e8a"
   },
   "outputs": [],
   "source": [
    "!wget https://raw.githubusercontent.com/khider/INF549/master/Homework%20Assignments/Homework%204/Dataset/lenses.csv\n",
    "!wget https://raw.githubusercontent.com/khider/INF549/master/Homework%20Assignments/Homework%204/Dataset/iris.csv"
   ]
  },
  {
   "cell_type": "markdown",
   "metadata": {
    "id": "3ODI95-ecT6X"
   },
   "source": [
    "Next, we will be importing packages and defining a few custom functions"
   ]
  },
  {
   "cell_type": "code",
   "execution_count": null,
   "metadata": {
    "id": "PY9Tp8AyXoe4"
   },
   "outputs": [],
   "source": [
    "import numpy as np\n",
    "import pandas as pd\n",
    "from sklearn.model_selection import KFold\n",
    "from sklearn import tree\n",
    "from sklearn.model_selection import cross_val_score\n",
    "from sklearn.preprocessing import OneHotEncoder\n",
    "from sklearn.pipeline import Pipeline\n",
    "import graphviz\n",
    "import matplotlib.pyplot as plt\n",
    "cmap_data = plt.cm.Paired\n",
    "cmap_cv = plt.cm.coolwarm\n",
    "\n",
    "def plot_cv_indices(cv, X, y, ax, n_splits, lw=10):\n",
    "    \"\"\"Create a sample plot for indices of a cross-validation object.\"\"\"\n",
    "\n",
    "    # Generate the training/testing visualizations for each CV split\n",
    "    for ii, (tr, tt) in enumerate(cv.split(X=X, y=y)):\n",
    "        # Fill in indices with the training/test groups\n",
    "        indices = np.array([np.nan] * len(X))\n",
    "        indices[tt] = 1\n",
    "        indices[tr] = 0\n",
    "        # Visualize the results\n",
    "        ax.scatter(range(len(indices)), [ii + .5] * len(indices),\n",
    "                   c=indices, marker='_', lw=lw, cmap=cmap_cv,\n",
    "                   vmin=-.2, vmax=1.2)\n",
    "\n",
    "    # Plot the data classes and groups at the end\n",
    "    ax.scatter(range(len(X)), [ii + 1.5] * len(X),\n",
    "              c=y, marker='_', lw=lw, cmap=cmap_data)\n",
    "    \n",
    "    # Formatting\n",
    "    yticklabels = list(range(n_splits)) + ['class']\n",
    "    ax.set(yticks=np.arange(n_splits+1) + .5, yticklabels=yticklabels,\n",
    "           xlabel='Sample index', ylabel=\"CV iteration\",\n",
    "           ylim=[n_splits+2.2, -.2], xlim=[0, len(X)])\n",
    "    ax.set_title('{}'.format(type(cv).__name__), fontsize=15)\n",
    "    return ax\n",
    "\n",
    "def loadDataSet(dataset):\n",
    "    with open(dataset) as f:\n",
    "        data=f.readlines()\n",
    "        attributes=data[0].rstrip().split(',')[:-1]\n",
    "        instances=[entry.rstrip().split(',')[:-1] for entry in data[1:]]\n",
    "        dataArray=[]\n",
    "        for i in range(len(instances[0])):\n",
    "            dataArray.append([float(instance[i]) for instance in instances])\n",
    "        instances=np.array(dataArray).T\n",
    "        labels=[entry.rstrip().split(',')[-1] for entry in data[1:]]\n",
    "        return attributes,instances,labels"
   ]
  },
  {
   "cell_type": "markdown",
   "metadata": {
    "id": "44cJehYBmm1R"
   },
   "source": [
    "## Training: Building a Decision Tree Classifier\n",
    "\n",
    "The cell below asks for a dataset. It trains a decision tree classifier.\n",
    "We provide two classification datasets that could be applied to the decision tree algorithms.\n",
    "* \"iris.csv\" has four attributes with continuous values describing three different iris species.\n",
    "* \"lenses.csv\" contains four attributes with discrete values and three classes.\n",
    "\n",
    "Before training your classifier, run the cell below to take a look at the dataset."
   ]
  },
  {
   "cell_type": "code",
   "execution_count": null,
   "metadata": {
    "colab": {
     "base_uri": "https://localhost:8080/",
     "height": 436
    },
    "id": "PBtDLZramkv_",
    "outputId": "b894aa73-674f-4c81-fdd6-c560aac50b79"
   },
   "outputs": [],
   "source": [
    "dataset=input('Please Enter Your Dataset:')\n",
    "df=pd.read_csv(dataset)\n",
    "display(df)"
   ]
  },
  {
   "cell_type": "markdown",
   "metadata": {
    "id": "VMnBjIkDm6V9"
   },
   "source": [
    "The following cell gives the number of instances in all distinct classes.\n",
    "\n",
    "Label Name is the name of the last column in the dataframe."
   ]
  },
  {
   "cell_type": "code",
   "execution_count": null,
   "metadata": {
    "colab": {
     "base_uri": "https://localhost:8080/"
    },
    "id": "dNODjuUxm35X",
    "outputId": "4745302e-ba31-4f41-d754-605a66920880"
   },
   "outputs": [],
   "source": [
    "label_name = input('Enter The Label Name:')\n",
    "print(df[label_name].value_counts())"
   ]
  },
  {
   "cell_type": "markdown",
   "metadata": {
    "id": "0anBoDQfnD_G"
   },
   "source": [
    "Before we run the following cell, let's learn an important concept called feature encoding. Many classifiers only take numerical data and some datasets have features that are not numerical. For example, a feature can be the state that a person lives in. Those are called [categorical features](https://en.wikipedia.org/wiki/Categorical_variable). In that case,we need to encode categorical features into discrete values. This process is called feature encoding.\n",
    "\n",
    "In our notebook, if your dataset contains categorical features, you will see the code rules in the cell below. In the next section, when you are prompted to input test set for prediction, the algorithm will automatically encode the relevant categorical features according to the code rules shown below."
   ]
  },
  {
   "cell_type": "code",
   "execution_count": null,
   "metadata": {
    "colab": {
     "base_uri": "https://localhost:8080/"
    },
    "id": "kv4aHN8-mx-O",
    "outputId": "413d83ab-c3dc-459f-f832-0d01b47b6637"
   },
   "outputs": [],
   "source": [
    "attributes,instances,labels=loadDataSet(dataset)\n",
    "clf = tree.DecisionTreeClassifier()\n",
    "clf.fit(instances,labels)"
   ]
  },
  {
   "cell_type": "markdown",
   "metadata": {
    "id": "kfoE7-_mnUQ3"
   },
   "source": [
    "## Visualizing a Decision Tree\n",
    "\n",
    "The following cell will generate a visualization of the decision tree."
   ]
  },
  {
   "cell_type": "code",
   "execution_count": null,
   "metadata": {
    "colab": {
     "base_uri": "https://localhost:8080/",
     "height": 777
    },
    "id": "EPZDAAdYnTua",
    "outputId": "58362310-a07a-4077-faaf-53b95f515632"
   },
   "outputs": [],
   "source": [
    "dot_data = tree.export_graphviz(clf, out_file=None,max_depth=5,\\\n",
    "feature_names=attributes,class_names=clf.classes_,label='all',\\\n",
    "filled=True,special_characters=True) \n",
    "graph = graphviz.Source(dot_data) \n",
    "graph"
   ]
  },
  {
   "cell_type": "markdown",
   "metadata": {
    "id": "zEV2I17PoSBp"
   },
   "source": [
    "## Evaluating the Accuracy of a Decision Tree Classifier¶\n",
    "\n",
    "The following cell will run cross-validation to evaluate your decision tree classifier.\n",
    "\n",
    "K Fold Cross-Validation is used to estimate prediction error. The dataset is randomly divided into K folds. The first fold acts as the validation set while the method is fit on remaining K-1 folds. Mean Squared Error is calculated on the observations from the held-out fold. The process is repeated K times, taking a different part each time.\n",
    "\n",
    "![Cross-validation](https://miro.medium.com/max/2000/1*fW_qNKmvmg8duWoQnp_PoQ.png)"
   ]
  },
  {
   "cell_type": "code",
   "execution_count": null,
   "metadata": {
    "colab": {
     "base_uri": "https://localhost:8080/"
    },
    "id": "_XzspFQ9nSXF",
    "outputId": "46791b29-3312-49a0-d022-335d0c6dc5b4"
   },
   "outputs": [],
   "source": [
    "n_foldCV=int(input(\"Please Enter the Number of Folds:\"))\n",
    "attributes,instances,labels=loadDataSet(dataset)\n",
    "clf = tree.DecisionTreeClassifier()\n",
    "clf = clf.fit(instances,labels)\n",
    "scores = cross_val_score(clf, instances, labels, cv=n_foldCV)"
   ]
  },
  {
   "cell_type": "markdown",
   "metadata": {
    "id": "1F1bO0QOpAsN"
   },
   "source": [
    "The following cell will output the accuracy score for each fold and the accuracy estimate of the model under 95% confidence interval."
   ]
  },
  {
   "cell_type": "code",
   "execution_count": null,
   "metadata": {
    "colab": {
     "base_uri": "https://localhost:8080/"
    },
    "id": "ZSCCxFAbo876",
    "outputId": "cbc7cb01-5826-47ef-8e5e-34f771bfb687"
   },
   "outputs": [],
   "source": [
    "print(\"Scores:\")\n",
    "[print(score) for score in scores]\n",
    "print(\"Accuracy: %0.2f (+/- %0.2f)\" % (scores.mean(), scores.std() * 2))"
   ]
  },
  {
   "cell_type": "markdown",
   "metadata": {
    "id": "9DuvIiGUpI4s"
   },
   "source": [
    "## Prediction: Classifying New Instances Using a Decision Tree Classifier\n",
    "\n",
    "The cell below classifies new instances with the decision tree you created.\n",
    "\n",
    "When you are prompted to input a prediction set, please create an example of an instance that looks like the instances in the training set."
   ]
  },
  {
   "cell_type": "code",
   "execution_count": null,
   "metadata": {
    "colab": {
     "base_uri": "https://localhost:8080/"
    },
    "id": "f-5nwBx9pEmS",
    "outputId": "e59d590e-afbd-429c-80d2-052260590e35"
   },
   "outputs": [],
   "source": [
    "testset=input('Please Enter Your Prediction Set:')\n",
    "testset=testset.strip().split(\",\")\n",
    "temp=[]\n",
    "for i in range(len(testset)):\n",
    "        temp.append(float(testset[i]))\n",
    "testset=np.array(temp).reshape((1,len(temp)))\n",
    "predictions=clf.predict(testset)\n",
    "print(predictions)"
   ]
  },
  {
   "cell_type": "code",
   "execution_count": null,
   "metadata": {
    "id": "uCQqVXvPthhy"
   },
   "outputs": [],
   "source": []
  }
 ],
 "metadata": {
  "colab": {
   "collapsed_sections": [],
   "name": "Notebook1_Decision_Tree_Classifier.ipynb",
   "provenance": [],
   "toc_visible": true
  },
  "kernelspec": {
   "display_name": "Python 3",
   "language": "python",
   "name": "python3"
  },
  "language_info": {
   "codemirror_mode": {
    "name": "ipython",
    "version": 3
   },
   "file_extension": ".py",
   "mimetype": "text/x-python",
   "name": "python",
   "nbconvert_exporter": "python",
   "pygments_lexer": "ipython3",
   "version": "3.7.6"
  }
 },
 "nbformat": 4,
 "nbformat_minor": 1
}
