{
  "nbformat": 4,
  "nbformat_minor": 0,
  "metadata": {
    "colab": {
      "name": "Homework1.ipynb",
      "provenance": [],
      "collapsed_sections": []
    },
    "kernelspec": {
      "name": "python3",
      "display_name": "Python 3"
    },
    "language_info": {
      "name": "python"
    }
  },
  "cells": [
    {
      "cell_type": "markdown",
      "metadata": {
        "id": "h6P5nezFDNNY"
      },
      "source": [
        "# Understanding traffic collisions in LA county\n",
        "\n",
        "The goal of this exercise is to perform some basic data exploration to understand the data we wish to work with.\n",
        "\n",
        "The dataset is available from https://data.lacity.org/A-Safe-City/Traffic-Collision-Data-from-2010-to-Present/d5tf-ez2w. You can try to download directly using wget. If the connection fails, download manually onto your computer and upload to Collab. If you do so, make sure to name the file: 'Traffic_Collision_Data.csv'.\n",
        "\n",
        "`wget` is a command line utility to download files from the web. "
      ]
    },
    {
      "cell_type": "code",
      "metadata": {
        "id": "FAexzUuODgOI"
      },
      "source": [
        "pip install wget"
      ],
      "execution_count": null,
      "outputs": []
    },
    {
      "cell_type": "code",
      "metadata": {
        "id": "DwhvDHAUD3uG"
      },
      "source": [
        "import wget\n",
        "wget.download('https://data.lacity.org/api/views/d5tf-ez2w/rows.csv?accessType=DOWNLOAD','Traffic_Collision_Data.csv')"
      ],
      "execution_count": null,
      "outputs": []
    },
    {
      "cell_type": "markdown",
      "metadata": {
        "id": "8ZFQWeLiEXHr"
      },
      "source": [
        "## Exploring tabular data\n",
        "\n",
        "The collision data is in tabular format. Next, we will load some libraries that will allow you to visualize the data. "
      ]
    },
    {
      "cell_type": "code",
      "metadata": {
        "id": "akoNVxtUEbGy"
      },
      "source": [
        "import pandas as pd\n",
        "import numpy as np\n",
        "import seaborn as sns\n",
        "import matplotlib.pyplot as plt\n",
        "import plotly.offline as py\n",
        "py.init_notebook_mode(connected=True)\n",
        "import plotly.graph_objs as go\n",
        "import plotly.tools as tls\n",
        "import datetime"
      ],
      "execution_count": null,
      "outputs": []
    },
    {
      "cell_type": "markdown",
      "metadata": {
        "id": "JlUG6jShExUN"
      },
      "source": [
        "Let's read the data in. If you're interested in the code, the csv was imported into a pandas dataframe. Pandas is a widly use library to deal with this kind of data. \n",
        "\n",
        "`df.head` prints out the column name and the first few rows."
      ]
    },
    {
      "cell_type": "code",
      "metadata": {
        "id": "6s06ftRpEy90"
      },
      "source": [
        "df = pd.read_csv(\"Traffic_Collision_Data.csv\")\n",
        "df.head()"
      ],
      "execution_count": null,
      "outputs": []
    },
    {
      "cell_type": "markdown",
      "metadata": {
        "id": "04GFxnNHE-G-"
      },
      "source": [
        "**Question**: Describe the information contained in each column of the dataframe.\n",
        "\n",
        "The `df.shape` function gives you information about the number of lines and columns present in the tabular data."
      ]
    },
    {
      "cell_type": "code",
      "metadata": {
        "id": "lnCL_AByFuh0"
      },
      "source": [
        "df.shape"
      ],
      "execution_count": null,
      "outputs": []
    },
    {
      "cell_type": "markdown",
      "metadata": {
        "id": "dQlpmcuOFiKw"
      },
      "source": [
        "The `df.info()` function allows you to output the name of the columns, the number of non-null values in each column, giving you a quick overview about the number of missing data, as well as the format of the data."
      ]
    },
    {
      "cell_type": "code",
      "metadata": {
        "id": "v_tb-u7aFHK_"
      },
      "source": [
        "df.info()"
      ],
      "execution_count": null,
      "outputs": []
    },
    {
      "cell_type": "markdown",
      "metadata": {
        "id": "oX4wq6wGF36z"
      },
      "source": [
        "**Question:** Based on the shape and information, which variables have non-null values associated with them? What type of information is missing in some records? How did you come to this conclusion?\n",
        "\n",
        "The cell below encodes the same calculation in one line code that you can use to look at how many rows have missing information."
      ]
    },
    {
      "cell_type": "code",
      "metadata": {
        "id": "DHUXu5lWFbNp"
      },
      "source": [
        "df.isnull().sum()"
      ],
      "execution_count": null,
      "outputs": []
    },
    {
      "cell_type": "markdown",
      "metadata": {
        "id": "2b-dnVyIGvX9"
      },
      "source": [
        "Python can reason with time information. To do so, it uses the datatime format. You can transform the strings contained in the table to datetime using the following: "
      ]
    },
    {
      "cell_type": "code",
      "metadata": {
        "id": "d0w4IU40GVvn"
      },
      "source": [
        "df['Date Reported'] = pd.to_datetime(df['Date Reported']).dt.year \n",
        "df['Date Occurred'] = pd.to_datetime(df['Date Occurred']).dt.year\n",
        "df.head()"
      ],
      "execution_count": null,
      "outputs": []
    },
    {
      "cell_type": "markdown",
      "metadata": {
        "id": "85gcDAHmH7u8"
      },
      "source": [
        "## Number of collisions through time\n",
        "\n",
        "This chart summarizes the trend in collisions over the past decade."
      ]
    },
    {
      "cell_type": "code",
      "metadata": {
        "id": "v6DFlMzqH4i1"
      },
      "source": [
        "plt.subplots(figsize = (20,5))\n",
        "v = df['Date Occurred'].value_counts()\n",
        "v = v.sort_index()\n",
        "v.plot(title='Collisions per year', xlabel='Year', ylabel = 'Number of Collisions', xticks=np.arange(2010,2022,1), marker='o')\n",
        "plt.show()"
      ],
      "execution_count": null,
      "outputs": []
    },
    {
      "cell_type": "markdown",
      "metadata": {
        "id": "pNr0qpEfIT7Z"
      },
      "source": [
        "**Question:** What trend do you observe? What happened in 2020? in 2021?\n",
        "\n",
        "## Location of collisions"
      ]
    },
    {
      "cell_type": "code",
      "metadata": {
        "id": "-8KMwMtLJUIF"
      },
      "source": [
        "df['Premise Description'].value_counts().head(10)"
      ],
      "execution_count": null,
      "outputs": []
    },
    {
      "cell_type": "markdown",
      "metadata": {
        "id": "13BYgp2CLbcf"
      },
      "source": [
        "**Question**: Where do most collisions occur? Modify the line of code above to know in which area the most collisions have occured.\n",
        "\n",
        "## Collisions by age group"
      ]
    },
    {
      "cell_type": "code",
      "metadata": {
        "id": "gMahmQ9WLZ_n"
      },
      "source": [
        "plt.subplots(figsize = (15,7))\n",
        "sns.countplot(df['Victim Age'].sort_values(ascending = False))\n",
        "plt.title('Collisions by Victim Age') \n",
        "plt.xticks(rotation = 90)\n",
        "plt.show()"
      ],
      "execution_count": null,
      "outputs": []
    },
    {
      "cell_type": "markdown",
      "metadata": {
        "id": "38JGLKhQMPVK"
      },
      "source": [
        "**Question**: How do you explain the increase in the 99 age group? How do you explain the spikes at 25, 30, 35, 40, 45... years old?\n",
        "\n",
        "##Collisions by time of day"
      ]
    },
    {
      "cell_type": "code",
      "metadata": {
        "id": "kLHlSLYsMAYK"
      },
      "source": [
        "import datetime as dt\n",
        "def convert(x):\n",
        "  return dt.datetime.strptime(x, '%H:%M')\n",
        "  \n",
        "def getTime(t):\n",
        "    t = str(t)\n",
        "    if len(t)==1:\n",
        "      return t[0]+':'+'00'\n",
        "    if len(t)<4:\n",
        "      return t[:1] + ':' + t[1:]\n",
        "    else:\n",
        "      return t[:2] + ':' + t[2:]"
      ],
      "execution_count": null,
      "outputs": []
    },
    {
      "cell_type": "code",
      "metadata": {
        "id": "_6AOKujFMvIr"
      },
      "source": [
        "df1 = df[(df['Date Occurred'].isin(['2010', '2011', '2012', '2013', '2014', '2015', '2016', '2017', '2018', '2019']))]\n",
        "\n",
        "df1['Time Occurred']= df1['Time Occurred'].apply(getTime)\n",
        "df1['Time Occurred']=df1['Time Occurred'].apply(convert)"
      ],
      "execution_count": null,
      "outputs": []
    },
    {
      "cell_type": "code",
      "metadata": {
        "id": "GzWTCHiqMxNv"
      },
      "source": [
        "hours = [t.hour for t in df1['Time Occurred'] ]\n",
        "numbers=[x for x in range(0,24)]\n",
        "labels=map(lambda x: str(x), numbers)\n",
        "plt.subplots(figsize = (15,6))\n",
        "sns.countplot(hours)"
      ],
      "execution_count": null,
      "outputs": []
    },
    {
      "cell_type": "markdown",
      "metadata": {
        "id": "SBuF93ZzsYQO"
      },
      "source": [
        "**Question**: When are collisions more frequent? Can you form an hypothesis of why that is? What other dataset would you need to confirm your hypothesis?"
      ]
    }
  ]
}