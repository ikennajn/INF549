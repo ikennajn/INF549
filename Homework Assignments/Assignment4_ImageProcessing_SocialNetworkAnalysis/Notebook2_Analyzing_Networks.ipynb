{
  "nbformat": 4,
  "nbformat_minor": 0,
  "metadata": {
    "anaconda-cloud": {},
    "kernelspec": {
      "display_name": "Python 3",
      "language": "python",
      "name": "python3"
    },
    "language_info": {
      "codemirror_mode": {
        "name": "ipython",
        "version": 3
      },
      "file_extension": ".py",
      "mimetype": "text/x-python",
      "name": "python",
      "nbconvert_exporter": "python",
      "pygments_lexer": "ipython3",
      "version": "3.8.3"
    },
    "colab": {
      "name": "Notebook2_Analyzing_Networks.ipynb",
      "provenance": []
    }
  },
  "cells": [
    {
      "cell_type": "markdown",
      "metadata": {
        "id": "YhXLlS_H0I1m"
      },
      "source": [
        "# Network Analysis\n",
        "\n",
        "This notebook will show you how to analyze networks and visualize their structure.  In particular, we will analyze  social networks where nodes are people and a link represents an organizations which two people belong to.  \n",
        "\n",
        "For those of you interested in the code, the notebook uses the [networkx](https://networkx.github.io) library to store the network structure, and the [matplotlib](https://matplotlib.org) library to visualize the results.\n",
        "\n",
        "The following cell contains some predefined functions to process networks. Please make sure you have run this cell before you run other cells in this notebook.\n",
        "\n",
        "First, let's download the data for this assignment."
      ]
    },
    {
      "cell_type": "code",
      "metadata": {
        "id": "5zK0FTLx0I1u"
      },
      "source": [
        "!wget 'https://raw.githubusercontent.com/pointandclickinterface/INF549/master/Homework%20Assignments/Assignment4_ImageProcessing_SocialNetworkAnalysis/Social_Network_Analysis/Revolution.txt'\n",
        "!wget 'https://raw.githubusercontent.com/pointandclickinterface/INF549/master/Homework%20Assignments/Assignment4_ImageProcessing_SocialNetworkAnalysis/Social_Network_Analysis/HighSchoolClubs.txt'"
      ],
      "execution_count": null,
      "outputs": []
    },
    {
      "cell_type": "code",
      "metadata": {
        "id": "hTjd4qtJ0I1v"
      },
      "source": [
        "import networkx as nx\n",
        "import itertools\n",
        "import matplotlib.pyplot as plt\n",
        "#import matplotlib as mpl\n",
        "#mpl.rcParams['figure.figsize'] = (10,10)\n",
        "\n",
        "def loadDataset():\n",
        "    filename=input('Please Enter Your Dataset:')\n",
        "    return filename\n",
        "\n",
        "def loadOrganization(filename):\n",
        "    with open(filename) as f:\n",
        "        data=f.readlines()\n",
        "        features=data[0].rstrip().split(',')[1:]\n",
        "        values=[entry.rstrip().split(',')[1:] for entry in data[1:]]\n",
        "        return features,values\n",
        "\n",
        "def Organization_Visualization(filename):\n",
        "    plt.clf()\n",
        "    #filename=input('Please Enter the File Name:')\n",
        "    features,values=loadOrganization(filename)\n",
        "    g=nx.Graph()\n",
        "    weightedNodes={}\n",
        "    for value in values:\n",
        "        lst=[]\n",
        "        for index,node in enumerate(value):\n",
        "            if node=='1':\n",
        "                lst.append(features[index])\n",
        "        for i in itertools.combinations(lst,2):\n",
        "            weightedNodes[i]=weightedNodes.get(i,0) + 1\n",
        "    for nodes,weights in weightedNodes.items():\n",
        "        #print nodes,weights\n",
        "        g.add_edge(*nodes,weight=weights*0.4)\n",
        "    n=nx.number_of_nodes(g)\n",
        "    pos=nx.spring_layout(g,k=n**(-1./3))  \n",
        "    edges = g.edges()\n",
        "    weights = [g[u][v]['weight'] for u,v in edges]\n",
        "    nx.draw(g,pos,with_labels = True,node_color=\"#E69F00\",width=weights,font_size=8,\\\n",
        "            font_color='#0F0C82',edge_color=\"#A9A9A9\")\n",
        "    filename=filename[:-4]+'_organization.png'\n",
        "    plt.savefig(filename,dpi=300)\n",
        "    plt.show()   \n",
        "\n",
        "def loadPeople(filename):\n",
        "    Organization_People={}\n",
        "    with open(filename) as f:\n",
        "        data=f.readlines()\n",
        "        features=data[0].rstrip().split(',')[1:]\n",
        "        values=[entry.rstrip().split(',') for entry in data[1:]]\n",
        "        for i in range(len(features)):\n",
        "            persons=[]\n",
        "            for value in values:\n",
        "                if value[i+1]=='1':\n",
        "                    persons.append(value[0])\n",
        "            Organization_People[features[i]]=persons\n",
        "        return Organization_People\n",
        "\n",
        "def People_Visualization(filename):\n",
        "    plt.clf()\n",
        "    #filename=input('Please Enter the File Name:')\n",
        "    Organization_People=loadPeople(dataset)\n",
        "    g=nx.Graph()\n",
        "    for organization in Organization_People.keys():\n",
        "        for i in itertools.combinations(Organization_People[organization],2):\n",
        "            g.add_edge(*i)\n",
        "    n=nx.number_of_nodes(g)\n",
        "    pos=nx.spring_layout(g,k=n**(-1./3))    \n",
        "    nx.draw(g,pos=pos,with_labels = True,width=0.05,linewidths=0.2,\\\n",
        "            node_color=\"#E69F00\",node_size=4,font_size=4,font_color='#0F0C82',\\\n",
        "            edge_color=\"#A9A9A9\")\n",
        "    filename=filename[:-4]+'_people.png'\n",
        "    plt.savefig(filename,dpi=300) \n",
        "    plt.show()\n",
        "\n",
        "def loadHead(filename):\n",
        "    import pandas as pd\n",
        "    #dataset=input('Please Enter Your Dataset:')\n",
        "    df=pd.read_csv(dataset)\n",
        "    with pd.option_context('display.max_columns', None):\n",
        "        display(df.head())"
      ],
      "execution_count": 2,
      "outputs": []
    },
    {
      "cell_type": "markdown",
      "metadata": {
        "id": "zuBTwbYR0I1x"
      },
      "source": [
        "## Exploring the data\n",
        "Run the following cell  and input the 'Revolution.txt' file located in the 'Social Network Analysis' folder. Every row represents a person in the American revolution. Every column represents an organization. If there is a '1' in a specific column, this means a person was a member of that organization. We will analyze the social network from two perspectives: the organization perspective and the people perspective. \n",
        "\n",
        "The two social networks analysis functions are very general and not limited to represent the relationsips among people and clubs. It can represent relationships amony any entities and the organizations that the entities belong to."
      ]
    },
    {
      "cell_type": "code",
      "metadata": {
        "id": "mOwyc2ZD0I1y"
      },
      "source": [
        "dataset=loadDataset()"
      ],
      "execution_count": null,
      "outputs": []
    },
    {
      "cell_type": "code",
      "metadata": {
        "id": "HNe6xP6G0I1y"
      },
      "source": [
        "loadHead(dataset)"
      ],
      "execution_count": null,
      "outputs": []
    },
    {
      "cell_type": "markdown",
      "metadata": {
        "id": "X9PgJEIg0I1z"
      },
      "source": [
        "## Organization Visualization##\n",
        "In the organization network, the visualization will display the relationships among various organizations. The more members two organizations shared, the thicker the edge between them would be.   \n",
        "\n",
        "The following cell visualizes the organization network. When you are prompted to input the data, use one of the two datasets provided in the 'Social Network Analysis' folder. "
      ]
    },
    {
      "cell_type": "code",
      "metadata": {
        "id": "6h8bgceX0I10"
      },
      "source": [
        "Organization_Visualization(dataset)"
      ],
      "execution_count": null,
      "outputs": []
    },
    {
      "cell_type": "markdown",
      "metadata": {
        "id": "OxMC4JcG0I10"
      },
      "source": [
        "**Tips: if you cannot see the picture very clearly, it has been saved at the same folder of this notebook.**"
      ]
    },
    {
      "cell_type": "markdown",
      "metadata": {
        "id": "7Su82Mh50I11"
      },
      "source": [
        "## People Visualization##\n",
        "In the people network, the visualization will display the relationships among various people. If two people were in the same club, there would be an edge between them. A thicker edge represents that two persons had a lot of common organizations.  \n",
        "\n",
        "The following cell generate a visualization of the people in your network data.  When you are prompted to input the data, use one of the two datasets provided in the 'Social Network Analysis' folder. You can choose a different dataset from  the previous question."
      ]
    },
    {
      "cell_type": "code",
      "metadata": {
        "id": "_sV-i9Lz0I11"
      },
      "source": [
        "People_Visualization(dataset)"
      ],
      "execution_count": null,
      "outputs": []
    },
    {
      "cell_type": "markdown",
      "metadata": {
        "id": "SEMztdpr0I11"
      },
      "source": [
        "**Tips: if you cannot see the picture very clearly, it has been saved at the same folder of this notebook.**"
      ]
    }
  ]
}
